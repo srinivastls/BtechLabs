{
 "cells": [
  {
   "cell_type": "code",
   "execution_count": 13,
   "metadata": {},
   "outputs": [],
   "source": [
    "import numpy as np\n",
    "import pandas as pd\n",
    "import matplotlib.pyplot as plt\n",
    "import sympy as sp"
   ]
  },
  {
   "cell_type": "code",
   "execution_count": 14,
   "metadata": {},
   "outputs": [
    {
     "name": "stdout",
     "output_type": "stream",
     "text": [
      "     Gender         0         1         2         3         4         5  \\\n",
      "0      male -0.066420  0.151611  0.027740  0.052771 -0.066105 -0.041232   \n",
      "1      male -0.030614  0.049667  0.008084 -0.050324  0.007649 -0.063818   \n",
      "2      male -0.096178  0.061127  0.035326 -0.035388 -0.090728 -0.018634   \n",
      "3      male -0.103057  0.085044  0.078333 -0.035873 -0.028163  0.004924   \n",
      "4      male -0.125815  0.120046  0.023131 -0.042901  0.038215 -0.049677   \n",
      "..      ...       ...       ...       ...       ...       ...       ...   \n",
      "795  female -0.164731  0.064301  0.058630 -0.017420 -0.157600 -0.022536   \n",
      "796  female -0.095308  0.051095  0.092913 -0.101745 -0.083153 -0.028159   \n",
      "797  female -0.202852  0.037039  0.079731 -0.047156 -0.140062 -0.080246   \n",
      "798  female -0.088300  0.063530  0.049627 -0.026011 -0.172773  0.086218   \n",
      "799  female -0.156201  0.055165  0.142716 -0.115393 -0.128982 -0.139830   \n",
      "\n",
      "            6         7         8  ...       118       119       120  \\\n",
      "0   -0.002637 -0.158467  0.130467  ...  0.025989 -0.001087  0.027260   \n",
      "1   -0.019530 -0.119905  0.186553  ...  0.044229 -0.023900 -0.028108   \n",
      "2   -0.024315 -0.139786  0.052211  ...  0.111141  0.059436 -0.029222   \n",
      "3    0.007829 -0.017016  0.114907  ...  0.100793 -0.002644 -0.023388   \n",
      "4   -0.054258 -0.130758  0.173457  ...  0.090197  0.067527  0.039926   \n",
      "..        ...       ...       ...  ...       ...       ...       ...   \n",
      "795  0.002864 -0.072739  0.030554  ...  0.095115  0.007198 -0.004655   \n",
      "796  0.009090 -0.114513  0.157421  ...  0.056078  0.119846  0.087470   \n",
      "797  0.057668 -0.122083  0.165443  ...  0.066954  0.035684 -0.023112   \n",
      "798  0.042710 -0.161852  0.185083  ...  0.039460  0.067547  0.040426   \n",
      "799 -0.037305 -0.101402  0.048473  ...  0.024955  0.066980 -0.002332   \n",
      "\n",
      "          121       122       123       124       125       126       127  \n",
      "0   -0.046754 -0.118619 -0.163774 -0.000590 -0.076400  0.107497  0.001567  \n",
      "1    0.040618 -0.146579 -0.141244  0.016162  0.017638  0.080610 -0.015930  \n",
      "2    0.042115 -0.222173 -0.116908  0.093428  0.017391  0.057652  0.086116  \n",
      "3    0.029497 -0.139830 -0.119243  0.005306 -0.015100  0.161575  0.062462  \n",
      "4    0.047469 -0.056852 -0.076700  0.004966  0.028171  0.026041  0.084135  \n",
      "..        ...       ...       ...       ...       ...       ...       ...  \n",
      "795  0.023957 -0.170753 -0.136630  0.041614  0.031600  0.019064  0.004384  \n",
      "796  0.017481 -0.096594 -0.084553  0.037709  0.030732 -0.083713  0.064970  \n",
      "797 -0.030452 -0.154243 -0.188270  0.071086  0.037384 -0.006257  0.039977  \n",
      "798  0.028007 -0.154515 -0.127736  0.046967  0.009701 -0.016942  0.048071  \n",
      "799 -0.045738 -0.110557 -0.014995 -0.002124 -0.010298 -0.028856  0.075323  \n",
      "\n",
      "[800 rows x 129 columns]\n"
     ]
    }
   ],
   "source": [
    "df = pd.read_csv('face feature vectors.csv').drop('Unnamed: 0', axis=1)\n",
    "#rename first column\n",
    "df.rename(columns={'Unnamed: 1':'Gender'}, inplace=True)\n",
    "print(df)"
   ]
  },
  {
   "cell_type": "code",
   "execution_count": 15,
   "metadata": {},
   "outputs": [
    {
     "name": "stdout",
     "output_type": "stream",
     "text": [
      "     Gender         0         1         2         3         4         5  \\\n",
      "0      male -0.149119  0.125288  0.142323 -0.009087 -0.031394 -0.123533   \n",
      "1      male -0.139035  0.073513 -0.001770 -0.034225 -0.101610  0.065105   \n",
      "2      male -0.074126 -0.000669  0.004166 -0.082413 -0.096091 -0.021992   \n",
      "3      male -0.166220  0.042769 -0.031647 -0.036892 -0.143837 -0.040566   \n",
      "4      male -0.185770  0.154008  0.073184 -0.070829 -0.144617 -0.019732   \n",
      "..      ...       ...       ...       ...       ...       ...       ...   \n",
      "785  female -0.164731  0.064301  0.058630 -0.017420 -0.157600 -0.022536   \n",
      "786  female -0.095308  0.051095  0.092913 -0.101745 -0.083153 -0.028159   \n",
      "787  female -0.202852  0.037039  0.079731 -0.047156 -0.140062 -0.080246   \n",
      "788  female -0.088300  0.063530  0.049627 -0.026011 -0.172773  0.086218   \n",
      "789  female -0.156201  0.055165  0.142716 -0.115393 -0.128982 -0.139830   \n",
      "\n",
      "            6         7         8  ...       118       119       120  \\\n",
      "0    0.043598 -0.063999  0.162439  ...  0.060833  0.089529 -0.034872   \n",
      "1   -0.014420 -0.054993  0.134674  ...  0.081007 -0.002164  0.060377   \n",
      "2    0.009714 -0.056961  0.174237  ...  0.050497  0.038932  0.023520   \n",
      "3    0.042541 -0.122923  0.188971  ...  0.014732 -0.049135  0.081770   \n",
      "4   -0.019418 -0.004675  0.152325  ...  0.093317  0.035101 -0.147997   \n",
      "..        ...       ...       ...  ...       ...       ...       ...   \n",
      "785  0.002864 -0.072739  0.030554  ...  0.095115  0.007198 -0.004655   \n",
      "786  0.009090 -0.114513  0.157421  ...  0.056078  0.119846  0.087470   \n",
      "787  0.057668 -0.122083  0.165443  ...  0.066954  0.035684 -0.023112   \n",
      "788  0.042710 -0.161852  0.185083  ...  0.039460  0.067547  0.040426   \n",
      "789 -0.037305 -0.101402  0.048473  ...  0.024955  0.066980 -0.002332   \n",
      "\n",
      "          121       122       123       124       125       126       127  \n",
      "0    0.057080 -0.137162 -0.072522  0.052731 -0.141460  0.019018  0.085765  \n",
      "1    0.080294 -0.139369 -0.150245  0.078657  0.024194  0.062180  0.036039  \n",
      "2   -0.090260 -0.147692 -0.008296  0.007609 -0.026687 -0.017523 -0.038310  \n",
      "3   -0.027199 -0.096941 -0.094661  0.057797 -0.101063  0.061373  0.062176  \n",
      "4   -0.046010 -0.087777 -0.100660  0.036190  0.012158  0.032304  0.085996  \n",
      "..        ...       ...       ...       ...       ...       ...       ...  \n",
      "785  0.023957 -0.170753 -0.136630  0.041614  0.031600  0.019064  0.004384  \n",
      "786  0.017481 -0.096594 -0.084553  0.037709  0.030732 -0.083713  0.064970  \n",
      "787 -0.030452 -0.154243 -0.188270  0.071086  0.037384 -0.006257  0.039977  \n",
      "788  0.028007 -0.154515 -0.127736  0.046967  0.009701 -0.016942  0.048071  \n",
      "789 -0.045738 -0.110557 -0.014995 -0.002124 -0.010298 -0.028856  0.075323  \n",
      "\n",
      "[790 rows x 129 columns]\n"
     ]
    }
   ],
   "source": [
    "classes = df['Gender'].unique()\n",
    "train = pd.DataFrame()\n",
    "test = pd.DataFrame()\n",
    "for c in classes:\n",
    "    train = pd.concat([train, df[df['Gender'] == c].iloc[5:]], ignore_index=True)\n",
    "    test = pd.concat([test, df[df['Gender'] == c].iloc[:5]], ignore_index=True)\n",
    "\n",
    "print(train)"
   ]
  },
  {
   "cell_type": "code",
   "execution_count": 16,
   "metadata": {},
   "outputs": [
    {
     "name": "stdout",
     "output_type": "stream",
     "text": [
      "   Gender         0         1         2         3         4         5  \\\n",
      "0    male -0.066420  0.151611  0.027740  0.052771 -0.066105 -0.041232   \n",
      "1    male -0.030614  0.049667  0.008084 -0.050324  0.007649 -0.063818   \n",
      "2    male -0.096178  0.061127  0.035326 -0.035388 -0.090728 -0.018634   \n",
      "3    male -0.103057  0.085044  0.078333 -0.035873 -0.028163  0.004924   \n",
      "4    male -0.125815  0.120046  0.023131 -0.042901  0.038215 -0.049677   \n",
      "5  female  0.001747  0.185678  0.073260  0.042142 -0.088674  0.028186   \n",
      "6  female -0.091598  0.095340  0.072125 -0.092276 -0.079953  0.047782   \n",
      "7  female -0.018751  0.088572  0.068894 -0.065700 -0.115126  0.024339   \n",
      "8  female -0.130889  0.093262  0.122244 -0.110014 -0.157625 -0.036781   \n",
      "9  female -0.037433  0.078158  0.118061 -0.117658 -0.194807 -0.045464   \n",
      "\n",
      "          6         7         8  ...       118       119       120       121  \\\n",
      "0 -0.002637 -0.158467  0.130467  ...  0.025989 -0.001087  0.027260 -0.046754   \n",
      "1 -0.019530 -0.119905  0.186553  ...  0.044229 -0.023900 -0.028108  0.040618   \n",
      "2 -0.024315 -0.139786  0.052211  ...  0.111141  0.059436 -0.029222  0.042115   \n",
      "3  0.007829 -0.017016  0.114907  ...  0.100793 -0.002644 -0.023388  0.029497   \n",
      "4 -0.054258 -0.130758  0.173457  ...  0.090197  0.067527  0.039926  0.047469   \n",
      "5 -0.027830 -0.064211  0.097413  ...  0.123615  0.030036  0.041442 -0.012818   \n",
      "6 -0.004701 -0.092005  0.222913  ...  0.011370  0.144719  0.089139 -0.059767   \n",
      "7 -0.028420 -0.159320  0.164595  ...  0.010345  0.095309  0.012255 -0.033010   \n",
      "8  0.073908 -0.098571  0.120419  ...  0.003229  0.049330  0.059733 -0.023820   \n",
      "9 -0.014104 -0.158824  0.159272  ...  0.043848 -0.009760  0.043486  0.020251   \n",
      "\n",
      "        122       123       124       125       126       127  \n",
      "0 -0.118619 -0.163774 -0.000590 -0.076400  0.107497  0.001567  \n",
      "1 -0.146579 -0.141244  0.016162  0.017638  0.080610 -0.015930  \n",
      "2 -0.222173 -0.116908  0.093428  0.017391  0.057652  0.086116  \n",
      "3 -0.139830 -0.119243  0.005306 -0.015100  0.161575  0.062462  \n",
      "4 -0.056852 -0.076700  0.004966  0.028171  0.026041  0.084135  \n",
      "5 -0.119177 -0.165786 -0.075368 -0.017690  0.067028  0.036452  \n",
      "6 -0.111235 -0.055420  0.006283  0.016900 -0.081676  0.022809  \n",
      "7 -0.097720 -0.218889  0.077764  0.045943  0.010856  0.100522  \n",
      "8 -0.098432 -0.034316  0.075131 -0.029204 -0.020707  0.031028  \n",
      "9 -0.115420 -0.040023  0.099409 -0.032240  0.037601 -0.020016  \n",
      "\n",
      "[10 rows x 129 columns]\n"
     ]
    }
   ],
   "source": [
    "print(test)"
   ]
  },
  {
   "cell_type": "code",
   "execution_count": 17,
   "metadata": {},
   "outputs": [],
   "source": [
    "def covariance_matrix(train):\n",
    "    data = train.iloc[:, 1:]\n",
    "    mean_vector = np.array(data.mean())\n",
    "    centered_data = data - mean_vector\n",
    "    cov_matrix = np.dot(centered_data.T, centered_data) / (len(train) - 1)\n",
    "    return cov_matrix\n",
    "\n",
    "\n",
    "def fit_Bayes_classifier(train):\n",
    "    classes = train['Gender'].unique()\n",
    "    mean_vector = {}\n",
    "    cov_matrix = {}\n",
    "    inv_cov_matrix = {}\n",
    "    det_cov_matrix = {}\n",
    "\n",
    "    for c in classes:\n",
    "        mean_vector[c] = np.array(train[train['Gender'] == c].iloc[:, 1:].mean())\n",
    "        cov_matrix[c] = np.array(covariance_matrix(train[train['Gender'] == c]))\n",
    "        inv_cov_matrix[c] = np.linalg.inv(cov_matrix[c])\n",
    "        det_cov_matrix[c] = sp.Matrix(cov_matrix[c]).det()\n",
    "        print(det_cov_matrix[c])\n",
    "\n",
    "    return mean_vector, inv_cov_matrix, det_cov_matrix\n",
    "\n",
    "\n",
    "def Bayes_classifier(train, test_vector, mean_vector, inv_cov_matrix, det_cov_matrix):\n",
    "    classes = train['Gender'].unique()\n",
    "    dim = len(train.columns) - 1\n",
    "    bayes_prob = []\n",
    "\n",
    "    for c in classes:\n",
    "        apriori = len(train[train['Gender'] == c]) / len(train)\n",
    "        test_vector = np.array(test_vector)\n",
    "        prob = np.exp(-0.5 * np.dot(np.dot((test_vector - mean_vector[c]).T, inv_cov_matrix[c]), (test_vector - mean_vector[c]))) / (\n",
    "                    np.power(2 * np.pi, dim / 2) * np.power(det_cov_matrix[c], 0.5))\n",
    "        bayes_prob.append(prob * apriori)\n",
    "\n",
    "    return classes[np.argmax(bayes_prob)]\n",
    "        \n",
    "        "
   ]
  },
  {
   "cell_type": "code",
   "execution_count": 18,
   "metadata": {},
   "outputs": [
    {
     "name": "stdout",
     "output_type": "stream",
     "text": [
      "8.52965353456777e-863\n",
      "4.77262840089777e-864\n"
     ]
    }
   ],
   "source": [
    "mean_vector, inv_cov_matrix, det_cov_matrix = fit_Bayes_classifier(train)"
   ]
  },
  {
   "cell_type": "code",
   "execution_count": 19,
   "metadata": {},
   "outputs": [
    {
     "name": "stdout",
     "output_type": "stream",
     "text": [
      "   Actual Predicted\n",
      "0    male      male\n",
      "1    male      male\n",
      "2    male      male\n",
      "3    male      male\n",
      "4    male      male\n",
      "5  female      male\n",
      "6  female    female\n",
      "7  female    female\n",
      "8  female    female\n",
      "9  female    female\n"
     ]
    }
   ],
   "source": [
    "predictions = []\n",
    "for i in range(len(test)):\n",
    "    predictions.append(Bayes_classifier(train, test.iloc[i, 1:], mean_vector, inv_cov_matrix, det_cov_matrix))\n",
    "\n",
    "compare = pd.DataFrame({'Actual': test['Gender'], 'Predicted': predictions})\n",
    "\n",
    "print(compare)"
   ]
  },
  {
   "cell_type": "code",
   "execution_count": 20,
   "metadata": {},
   "outputs": [
    {
     "name": "stdout",
     "output_type": "stream",
     "text": [
      "Overall Accuracy:  0.9\n",
      "Accuracy for each class\n",
      "male :  1.0\n",
      "female :  0.8\n"
     ]
    }
   ],
   "source": [
    "def accuracy(y_pred,y_test):\n",
    "    return np.sum(y_pred == y_test)/len(y_test)\n",
    "\n",
    "def accuracy_each_class(compare):\n",
    "    classes = compare['Actual'].unique()\n",
    "    accuracy = {}\n",
    "    for c in classes:\n",
    "        accuracy[c] = np.sum(compare[compare['Actual'] == c]['Actual'] == compare[compare['Actual'] == c]['Predicted']) / len(compare[compare['Actual'] == c])\n",
    "    return accuracy\n",
    "\n",
    "print(\"Overall Accuracy: \",accuracy(predictions, test['Gender']))\n",
    "\n",
    "print(\"Accuracy for each class\")\n",
    "acc = accuracy_each_class(compare)\n",
    "for c in acc:\n",
    "    print(c,\": \",acc[c])\n"
   ]
  },
  {
   "cell_type": "code",
   "execution_count": 21,
   "metadata": {},
   "outputs": [
    {
     "data": {
      "image/png": "[encoded data removed]",
      "text/plain": [
       "<Figure size 640x480 with 1 Axes>"
      ]
     },
     "metadata": {},
     "output_type": "display_data"
    }
   ],
   "source": [
    "overall_accuracy = accuracy(predictions, test['Gender'])\n",
    "\n",
    "acc['Overall'] = overall_accuracy\n",
    "\n",
    "plt.bar(acc.keys(), acc.values())\n",
    "plt.xlabel('Classes')\n",
    "plt.ylabel('Accuracy')\n",
    "plt.title('Accuracy of each class')\n",
    "plt.show()"
   ]
  }
 ],
 "metadata": {
  "kernelspec": {
   "display_name": "Python 3 (ipykernel)",
   "language": "python",
   "name": "python3"
  },
  "language_info": {
   "codemirror_mode": {
    "name": "ipython",
    "version": 3
   },
   "file_extension": ".py",
   "mimetype": "text/x-python",
   "name": "python",
   "nbconvert_exporter": "python",
   "pygments_lexer": "ipython3",
   "version": "3.9.12"
  }
 },
 "nbformat": 4,
 "nbformat_minor": 2
}
