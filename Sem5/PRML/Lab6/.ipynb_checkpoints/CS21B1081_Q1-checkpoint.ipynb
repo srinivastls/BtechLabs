{
 "cells": [
  {
   "cell_type": "code",
   "execution_count": 28,
   "metadata": {},
   "outputs": [],
   "source": [
    "import numpy as np\n",
    "import pandas as pd\n",
    "import matplotlib.pyplot as plt"
   ]
  },
  {
   "cell_type": "code",
   "execution_count": 29,
   "metadata": {},
   "outputs": [
    {
     "name": "stdout",
     "output_type": "stream",
     "text": [
      "     SepalLengthCm  SepalWidthCm  PetalLengthCm  PetalWidthCm         Species\n",
      "0              5.1           3.5            1.4           0.2     Iris-setosa\n",
      "1              4.9           3.0            1.4           0.2     Iris-setosa\n",
      "2              4.7           3.2            1.3           0.2     Iris-setosa\n",
      "3              4.6           3.1            1.5           0.2     Iris-setosa\n",
      "4              5.0           3.6            1.4           0.2     Iris-setosa\n",
      "..             ...           ...            ...           ...             ...\n",
      "145            6.7           3.0            5.2           2.3  Iris-virginica\n",
      "146            6.3           2.5            5.0           1.9  Iris-virginica\n",
      "147            6.5           3.0            5.2           2.0  Iris-virginica\n",
      "148            6.2           3.4            5.4           2.3  Iris-virginica\n",
      "149            5.9           3.0            5.1           1.8  Iris-virginica\n",
      "\n",
      "[150 rows x 5 columns]\n"
     ]
    }
   ],
   "source": [
    "df = pd.read_csv('iris.csv').drop('Id', axis=1)\n",
    "print(df)"
   ]
  },
  {
   "cell_type": "code",
   "execution_count": 30,
   "metadata": {},
   "outputs": [
    {
     "name": "stdout",
     "output_type": "stream",
     "text": [
      "     SepalLengthCm  SepalWidthCm  PetalLengthCm  PetalWidthCm         Species\n",
      "0              5.1           3.5            1.4           0.2     Iris-setosa\n",
      "1              4.9           3.0            1.4           0.2     Iris-setosa\n",
      "2              4.7           3.2            1.3           0.2     Iris-setosa\n",
      "3              4.6           3.1            1.5           0.2     Iris-setosa\n",
      "4              5.0           3.6            1.4           0.2     Iris-setosa\n",
      "..             ...           ...            ...           ...             ...\n",
      "115            7.7           3.0            6.1           2.3  Iris-virginica\n",
      "116            6.3           3.4            5.6           2.4  Iris-virginica\n",
      "117            6.4           3.1            5.5           1.8  Iris-virginica\n",
      "118            6.0           3.0            4.8           1.8  Iris-virginica\n",
      "119            6.9           3.1            5.4           2.1  Iris-virginica\n",
      "\n",
      "[120 rows x 5 columns]\n"
     ]
    }
   ],
   "source": [
    "classes = df['Species'].unique()\n",
    "train = pd.DataFrame()\n",
    "test = pd.DataFrame()\n",
    "\n",
    "for c in classes:\n",
    "    train = pd.concat([train, df[df['Species'] == c].iloc[:40]],ignore_index=True)\n",
    "    test = pd.concat([test, df[df['Species'] == c].iloc[40:]],ignore_index=True)\n",
    "\n",
    "print(train)"
   ]
  },
  {
   "cell_type": "code",
   "execution_count": 31,
   "metadata": {},
   "outputs": [
    {
     "name": "stdout",
     "output_type": "stream",
     "text": [
      "    SepalLengthCm  SepalWidthCm  PetalLengthCm  PetalWidthCm          Species\n",
      "0             5.0           3.5            1.3           0.3      Iris-setosa\n",
      "1             4.5           2.3            1.3           0.3      Iris-setosa\n",
      "2             4.4           3.2            1.3           0.2      Iris-setosa\n",
      "3             5.0           3.5            1.6           0.6      Iris-setosa\n",
      "4             5.1           3.8            1.9           0.4      Iris-setosa\n",
      "5             4.8           3.0            1.4           0.3      Iris-setosa\n",
      "6             5.1           3.8            1.6           0.2      Iris-setosa\n",
      "7             4.6           3.2            1.4           0.2      Iris-setosa\n",
      "8             5.3           3.7            1.5           0.2      Iris-setosa\n",
      "9             5.0           3.3            1.4           0.2      Iris-setosa\n",
      "10            5.5           2.6            4.4           1.2  Iris-versicolor\n",
      "11            6.1           3.0            4.6           1.4  Iris-versicolor\n",
      "12            5.8           2.6            4.0           1.2  Iris-versicolor\n",
      "13            5.0           2.3            3.3           1.0  Iris-versicolor\n",
      "14            5.6           2.7            4.2           1.3  Iris-versicolor\n",
      "15            5.7           3.0            4.2           1.2  Iris-versicolor\n",
      "16            5.7           2.9            4.2           1.3  Iris-versicolor\n",
      "17            6.2           2.9            4.3           1.3  Iris-versicolor\n",
      "18            5.1           2.5            3.0           1.1  Iris-versicolor\n",
      "19            5.7           2.8            4.1           1.3  Iris-versicolor\n",
      "20            6.7           3.1            5.6           2.4   Iris-virginica\n",
      "21            6.9           3.1            5.1           2.3   Iris-virginica\n",
      "22            5.8           2.7            5.1           1.9   Iris-virginica\n",
      "23            6.8           3.2            5.9           2.3   Iris-virginica\n",
      "24            6.7           3.3            5.7           2.5   Iris-virginica\n",
      "25            6.7           3.0            5.2           2.3   Iris-virginica\n",
      "26            6.3           2.5            5.0           1.9   Iris-virginica\n",
      "27            6.5           3.0            5.2           2.0   Iris-virginica\n",
      "28            6.2           3.4            5.4           2.3   Iris-virginica\n",
      "29            5.9           3.0            5.1           1.8   Iris-virginica\n"
     ]
    }
   ],
   "source": [
    "print(test)"
   ]
  },
  {
   "cell_type": "code",
   "execution_count": 32,
   "metadata": {},
   "outputs": [],
   "source": [
    "def covariance_matrix(train):\n",
    "    dim = len(train.columns) - 1\n",
    "    data = train.iloc[:, :dim]\n",
    "    mean_vector = np.array(data.mean())\n",
    "    centered_data = data - mean_vector\n",
    "    cov_matrix = np.dot(centered_data.T, centered_data) / (len(train) - 1)\n",
    "    return cov_matrix\n",
    "\n",
    "\n",
    "def fit_Bayes_classifier(train):\n",
    "    classes = train['Species'].unique()\n",
    "    dim = len(train.columns) - 1\n",
    "    mean_vector = {}\n",
    "    cov_matrix = {}\n",
    "    inv_cov_matrix = {}\n",
    "    det_cov_matrix = {}\n",
    "\n",
    "    for c in classes:\n",
    "        mean_vector[c] = np.array(train[train['Species'] == c].iloc[:, :dim].mean())\n",
    "        cov_matrix[c] = np.array(covariance_matrix(train[train['Species'] == c]))\n",
    "        inv_cov_matrix[c] = np.linalg.inv(cov_matrix[c])\n",
    "        det_cov_matrix[c] = np.linalg.det(cov_matrix[c])\n",
    "\n",
    "    return mean_vector, inv_cov_matrix, det_cov_matrix\n",
    "\n",
    "\n",
    "def Bayes_classifier(train, test_vector, mean_vector, inv_cov_matrix, det_cov_matrix):\n",
    "    classes = train['Species'].unique()\n",
    "    dim = len(train.columns) - 1\n",
    "    bayes_prob = []\n",
    "\n",
    "    for c in classes:\n",
    "        apriori = len(train[train['Species'] == c]) / len(train)\n",
    "        test_vector = np.array(test_vector)\n",
    "        prob = np.exp(-0.5 * np.dot(np.dot((test_vector - mean_vector[c]).T, inv_cov_matrix[c]), (test_vector - mean_vector[c]))) / (\n",
    "                    np.power(2 * np.pi, dim / 2) * np.power(det_cov_matrix[c], 0.5))\n",
    "        bayes_prob.append(prob * apriori)\n",
    "\n",
    "    return classes[np.argmax(bayes_prob)]        "
   ]
  },
  {
   "cell_type": "code",
   "execution_count": 33,
   "metadata": {},
   "outputs": [],
   "source": [
    "mean_vector, inv_cov_matrix, det_cov_matrix = fit_Bayes_classifier(train)"
   ]
  },
  {
   "cell_type": "code",
   "execution_count": 34,
   "metadata": {},
   "outputs": [
    {
     "name": "stdout",
     "output_type": "stream",
     "text": [
      "             Actual        Predicted\n",
      "0       Iris-setosa      Iris-setosa\n",
      "1       Iris-setosa      Iris-setosa\n",
      "2       Iris-setosa      Iris-setosa\n",
      "3       Iris-setosa      Iris-setosa\n",
      "4       Iris-setosa      Iris-setosa\n",
      "5       Iris-setosa      Iris-setosa\n",
      "6       Iris-setosa      Iris-setosa\n",
      "7       Iris-setosa      Iris-setosa\n",
      "8       Iris-setosa      Iris-setosa\n",
      "9       Iris-setosa      Iris-setosa\n",
      "10  Iris-versicolor  Iris-versicolor\n",
      "11  Iris-versicolor  Iris-versicolor\n",
      "12  Iris-versicolor  Iris-versicolor\n",
      "13  Iris-versicolor  Iris-versicolor\n",
      "14  Iris-versicolor  Iris-versicolor\n",
      "15  Iris-versicolor  Iris-versicolor\n",
      "16  Iris-versicolor  Iris-versicolor\n",
      "17  Iris-versicolor  Iris-versicolor\n",
      "18  Iris-versicolor  Iris-versicolor\n",
      "19  Iris-versicolor  Iris-versicolor\n",
      "20   Iris-virginica   Iris-virginica\n",
      "21   Iris-virginica   Iris-virginica\n",
      "22   Iris-virginica   Iris-virginica\n",
      "23   Iris-virginica   Iris-virginica\n",
      "24   Iris-virginica   Iris-virginica\n",
      "25   Iris-virginica   Iris-virginica\n",
      "26   Iris-virginica   Iris-virginica\n",
      "27   Iris-virginica   Iris-virginica\n",
      "28   Iris-virginica   Iris-virginica\n",
      "29   Iris-virginica   Iris-virginica\n"
     ]
    }
   ],
   "source": [
    "\n",
    "predictions = []\n",
    "for i in range(len(test)):\n",
    "    predictions.append(Bayes_classifier(train, test.iloc[i, :-1], mean_vector, inv_cov_matrix, det_cov_matrix))\n",
    "\n",
    "compare = pd.DataFrame({'Actual': test['Species'], 'Predicted': predictions})\n",
    "\n",
    "print(compare)"
   ]
  },
  {
   "cell_type": "code",
   "execution_count": 35,
   "metadata": {},
   "outputs": [
    {
     "name": "stdout",
     "output_type": "stream",
     "text": [
      "Overall Accuracy:  1.0\n",
      "Accuracy for each class\n",
      "Iris-setosa :  1.0\n",
      "Iris-versicolor :  1.0\n",
      "Iris-virginica :  1.0\n"
     ]
    }
   ],
   "source": [
    "def accuracy(y_pred,y_test):\n",
    "    return np.sum(y_pred == y_test)/len(y_test)\n",
    "\n",
    "def accuracy_each_class(compare):\n",
    "    classes = compare['Actual'].unique()\n",
    "    accuracy = {}\n",
    "    for c in classes:\n",
    "        accuracy[c] = np.sum(compare[compare['Actual'] == c]['Actual'] == compare[compare['Actual'] == c]['Predicted']) / len(compare[compare['Actual'] == c])\n",
    "    return accuracy\n",
    "\n",
    "print(\"Overall Accuracy: \",accuracy(predictions, test['Species']))\n",
    "\n",
    "print(\"Accuracy for each class\")\n",
    "acc = accuracy_each_class(compare)\n",
    "for c in acc:\n",
    "    print(c,\": \",acc[c])\n"
   ]
  },
  {
   "cell_type": "code",
   "execution_count": 36,
   "metadata": {},
   "outputs": [
    {
     "data": {
      "image/png": "[encoded data removed]",
      "text/plain": [
       "<Figure size 640x480 with 1 Axes>"
      ]
     },
     "metadata": {},
     "output_type": "display_data"
    }
   ],
   "source": [
    "overall_accuracy = accuracy(predictions, test['Species'])\n",
    "\n",
    "acc['Overall'] = overall_accuracy\n",
    "\n",
    "plt.bar(acc.keys(), acc.values())\n",
    "plt.xlabel('Classes')\n",
    "plt.ylabel('Accuracy')\n",
    "plt.title('Accuracy of each class')\n",
    "plt.show()"
   ]
  }
 ],
 "metadata": {
  "kernelspec": {
   "display_name": "Python 3 (ipykernel)",
   "language": "python",
   "name": "python3"
  },
  "language_info": {
   "codemirror_mode": {
    "name": "ipython",
    "version": 3
   },
   "file_extension": ".py",
   "mimetype": "text/x-python",
   "name": "python",
   "nbconvert_exporter": "python",
   "pygments_lexer": "ipython3",
   "version": "3.9.12"
  }
 },
 "nbformat": 4,
 "nbformat_minor": 2
}
