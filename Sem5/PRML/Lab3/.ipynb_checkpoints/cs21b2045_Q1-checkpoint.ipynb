{
 "cells": [
  {
   "cell_type": "code",
   "execution_count": 1,
   "id": "c2fd6b64",
   "metadata": {},
   "outputs": [],
   "source": [
    "#importing libraries\n",
    "\n",
    "import numpy as np\n",
    "import pandas as pd\n",
    "import matplotlib.pyplot as plt\n",
    "import random as rd"
   ]
  },
  {
   "cell_type": "code",
   "execution_count": 2,
   "id": "e487d2cd",
   "metadata": {},
   "outputs": [],
   "source": [
    "# importing the dataset\n",
    "df = pd.read_csv(\"iris.csv\")\n",
    "df = df.drop([\"Id\"],axis=1)"
   ]
  },
  {
   "cell_type": "code",
   "execution_count": 3,
   "id": "e2eab3cd",
   "metadata": {},
   "outputs": [
    {
     "data": {
      "text/html": [
       "<div>\n",
       "<style scoped>\n",
       "    .dataframe tbody tr th:only-of-type {\n",
       "        vertical-align: middle;\n",
       "    }\n",
       "\n",
       "    .dataframe tbody tr th {\n",
       "        vertical-align: top;\n",
       "    }\n",
       "\n",
       "    .dataframe thead th {\n",
       "        text-align: right;\n",
       "    }\n",
       "</style>\n",
       "<table border=\"1\" class=\"dataframe\">\n",
       "  <thead>\n",
       "    <tr style=\"text-align: right;\">\n",
       "      <th></th>\n",
       "      <th>SepalLengthCm</th>\n",
       "      <th>SepalWidthCm</th>\n",
       "      <th>PetalLengthCm</th>\n",
       "      <th>PetalWidthCm</th>\n",
       "      <th>Species</th>\n",
       "    </tr>\n",
       "  </thead>\n",
       "  <tbody>\n",
       "    <tr>\n",
       "      <th>0</th>\n",
       "      <td>5.1</td>\n",
       "      <td>3.5</td>\n",
       "      <td>1.4</td>\n",
       "      <td>0.2</td>\n",
       "      <td>Iris-setosa</td>\n",
       "    </tr>\n",
       "    <tr>\n",
       "      <th>1</th>\n",
       "      <td>4.9</td>\n",
       "      <td>3.0</td>\n",
       "      <td>1.4</td>\n",
       "      <td>0.2</td>\n",
       "      <td>Iris-setosa</td>\n",
       "    </tr>\n",
       "    <tr>\n",
       "      <th>2</th>\n",
       "      <td>4.7</td>\n",
       "      <td>3.2</td>\n",
       "      <td>1.3</td>\n",
       "      <td>0.2</td>\n",
       "      <td>Iris-setosa</td>\n",
       "    </tr>\n",
       "    <tr>\n",
       "      <th>3</th>\n",
       "      <td>4.6</td>\n",
       "      <td>3.1</td>\n",
       "      <td>1.5</td>\n",
       "      <td>0.2</td>\n",
       "      <td>Iris-setosa</td>\n",
       "    </tr>\n",
       "    <tr>\n",
       "      <th>4</th>\n",
       "      <td>5.0</td>\n",
       "      <td>3.6</td>\n",
       "      <td>1.4</td>\n",
       "      <td>0.2</td>\n",
       "      <td>Iris-setosa</td>\n",
       "    </tr>\n",
       "    <tr>\n",
       "      <th>...</th>\n",
       "      <td>...</td>\n",
       "      <td>...</td>\n",
       "      <td>...</td>\n",
       "      <td>...</td>\n",
       "      <td>...</td>\n",
       "    </tr>\n",
       "    <tr>\n",
       "      <th>145</th>\n",
       "      <td>6.7</td>\n",
       "      <td>3.0</td>\n",
       "      <td>5.2</td>\n",
       "      <td>2.3</td>\n",
       "      <td>Iris-virginica</td>\n",
       "    </tr>\n",
       "    <tr>\n",
       "      <th>146</th>\n",
       "      <td>6.3</td>\n",
       "      <td>2.5</td>\n",
       "      <td>5.0</td>\n",
       "      <td>1.9</td>\n",
       "      <td>Iris-virginica</td>\n",
       "    </tr>\n",
       "    <tr>\n",
       "      <th>147</th>\n",
       "      <td>6.5</td>\n",
       "      <td>3.0</td>\n",
       "      <td>5.2</td>\n",
       "      <td>2.0</td>\n",
       "      <td>Iris-virginica</td>\n",
       "    </tr>\n",
       "    <tr>\n",
       "      <th>148</th>\n",
       "      <td>6.2</td>\n",
       "      <td>3.4</td>\n",
       "      <td>5.4</td>\n",
       "      <td>2.3</td>\n",
       "      <td>Iris-virginica</td>\n",
       "    </tr>\n",
       "    <tr>\n",
       "      <th>149</th>\n",
       "      <td>5.9</td>\n",
       "      <td>3.0</td>\n",
       "      <td>5.1</td>\n",
       "      <td>1.8</td>\n",
       "      <td>Iris-virginica</td>\n",
       "    </tr>\n",
       "  </tbody>\n",
       "</table>\n",
       "<p>150 rows × 5 columns</p>\n",
       "</div>"
      ],
      "text/plain": [
       "     SepalLengthCm  SepalWidthCm  PetalLengthCm  PetalWidthCm         Species\n",
       "0              5.1           3.5            1.4           0.2     Iris-setosa\n",
       "1              4.9           3.0            1.4           0.2     Iris-setosa\n",
       "2              4.7           3.2            1.3           0.2     Iris-setosa\n",
       "3              4.6           3.1            1.5           0.2     Iris-setosa\n",
       "4              5.0           3.6            1.4           0.2     Iris-setosa\n",
       "..             ...           ...            ...           ...             ...\n",
       "145            6.7           3.0            5.2           2.3  Iris-virginica\n",
       "146            6.3           2.5            5.0           1.9  Iris-virginica\n",
       "147            6.5           3.0            5.2           2.0  Iris-virginica\n",
       "148            6.2           3.4            5.4           2.3  Iris-virginica\n",
       "149            5.9           3.0            5.1           1.8  Iris-virginica\n",
       "\n",
       "[150 rows x 5 columns]"
      ]
     },
     "execution_count": 3,
     "metadata": {},
     "output_type": "execute_result"
    }
   ],
   "source": [
    "df"
   ]
  },
  {
   "cell_type": "code",
   "execution_count": 4,
   "id": "2e773fca",
   "metadata": {},
   "outputs": [
    {
     "name": "stdout",
     "output_type": "stream",
     "text": [
      "19\n"
     ]
    }
   ],
   "source": [
    "# seperating flowers 1,2 and 3 and dropping them from the dataset\n",
    "x1=rd.randint(0,50)\n",
    "x2=rd.randint(50,100)\n",
    "x3=rd.randint(100,150)\n",
    "flower1 = df.iloc[x1]\n",
    "flower2 = df.iloc[x2]\n",
    "flower3 = df.iloc[x3]\n",
    "df = df.drop([0,50,100],axis=0)\n",
    "print(x1)"
   ]
  },
  {
   "cell_type": "code",
   "execution_count": 5,
   "id": "5fe8b7c9",
   "metadata": {},
   "outputs": [
    {
     "name": "stdout",
     "output_type": "stream",
     "text": [
      "SepalLengthCm            5.1\n",
      "SepalWidthCm             3.8\n",
      "PetalLengthCm            1.5\n",
      "PetalWidthCm             0.3\n",
      "Species          Iris-setosa\n",
      "Name: 19, dtype: object\n",
      "SepalLengthCm                6.4\n",
      "SepalWidthCm                 2.9\n",
      "PetalLengthCm                4.3\n",
      "PetalWidthCm                 1.3\n",
      "Species          Iris-versicolor\n",
      "Name: 74, dtype: object\n",
      "SepalLengthCm               6.5\n",
      "SepalWidthCm                3.0\n",
      "PetalLengthCm               5.5\n",
      "PetalWidthCm                1.8\n",
      "Species          Iris-virginica\n",
      "Name: 116, dtype: object\n"
     ]
    }
   ],
   "source": [
    "print(flower1)\n",
    "print(flower2)\n",
    "print(flower3)"
   ]
  },
  {
   "cell_type": "code",
   "execution_count": 6,
   "id": "57f11e4e",
   "metadata": {},
   "outputs": [
    {
     "data": {
      "text/html": [
       "<div>\n",
       "<style scoped>\n",
       "    .dataframe tbody tr th:only-of-type {\n",
       "        vertical-align: middle;\n",
       "    }\n",
       "\n",
       "    .dataframe tbody tr th {\n",
       "        vertical-align: top;\n",
       "    }\n",
       "\n",
       "    .dataframe thead th {\n",
       "        text-align: right;\n",
       "    }\n",
       "</style>\n",
       "<table border=\"1\" class=\"dataframe\">\n",
       "  <thead>\n",
       "    <tr style=\"text-align: right;\">\n",
       "      <th></th>\n",
       "      <th>SepalLengthCm</th>\n",
       "      <th>SepalWidthCm</th>\n",
       "      <th>PetalLengthCm</th>\n",
       "      <th>PetalWidthCm</th>\n",
       "      <th>Species</th>\n",
       "    </tr>\n",
       "  </thead>\n",
       "  <tbody>\n",
       "    <tr>\n",
       "      <th>1</th>\n",
       "      <td>4.9</td>\n",
       "      <td>3.0</td>\n",
       "      <td>1.4</td>\n",
       "      <td>0.2</td>\n",
       "      <td>Iris-setosa</td>\n",
       "    </tr>\n",
       "    <tr>\n",
       "      <th>2</th>\n",
       "      <td>4.7</td>\n",
       "      <td>3.2</td>\n",
       "      <td>1.3</td>\n",
       "      <td>0.2</td>\n",
       "      <td>Iris-setosa</td>\n",
       "    </tr>\n",
       "    <tr>\n",
       "      <th>3</th>\n",
       "      <td>4.6</td>\n",
       "      <td>3.1</td>\n",
       "      <td>1.5</td>\n",
       "      <td>0.2</td>\n",
       "      <td>Iris-setosa</td>\n",
       "    </tr>\n",
       "    <tr>\n",
       "      <th>4</th>\n",
       "      <td>5.0</td>\n",
       "      <td>3.6</td>\n",
       "      <td>1.4</td>\n",
       "      <td>0.2</td>\n",
       "      <td>Iris-setosa</td>\n",
       "    </tr>\n",
       "    <tr>\n",
       "      <th>5</th>\n",
       "      <td>5.4</td>\n",
       "      <td>3.9</td>\n",
       "      <td>1.7</td>\n",
       "      <td>0.4</td>\n",
       "      <td>Iris-setosa</td>\n",
       "    </tr>\n",
       "    <tr>\n",
       "      <th>...</th>\n",
       "      <td>...</td>\n",
       "      <td>...</td>\n",
       "      <td>...</td>\n",
       "      <td>...</td>\n",
       "      <td>...</td>\n",
       "    </tr>\n",
       "    <tr>\n",
       "      <th>145</th>\n",
       "      <td>6.7</td>\n",
       "      <td>3.0</td>\n",
       "      <td>5.2</td>\n",
       "      <td>2.3</td>\n",
       "      <td>Iris-virginica</td>\n",
       "    </tr>\n",
       "    <tr>\n",
       "      <th>146</th>\n",
       "      <td>6.3</td>\n",
       "      <td>2.5</td>\n",
       "      <td>5.0</td>\n",
       "      <td>1.9</td>\n",
       "      <td>Iris-virginica</td>\n",
       "    </tr>\n",
       "    <tr>\n",
       "      <th>147</th>\n",
       "      <td>6.5</td>\n",
       "      <td>3.0</td>\n",
       "      <td>5.2</td>\n",
       "      <td>2.0</td>\n",
       "      <td>Iris-virginica</td>\n",
       "    </tr>\n",
       "    <tr>\n",
       "      <th>148</th>\n",
       "      <td>6.2</td>\n",
       "      <td>3.4</td>\n",
       "      <td>5.4</td>\n",
       "      <td>2.3</td>\n",
       "      <td>Iris-virginica</td>\n",
       "    </tr>\n",
       "    <tr>\n",
       "      <th>149</th>\n",
       "      <td>5.9</td>\n",
       "      <td>3.0</td>\n",
       "      <td>5.1</td>\n",
       "      <td>1.8</td>\n",
       "      <td>Iris-virginica</td>\n",
       "    </tr>\n",
       "  </tbody>\n",
       "</table>\n",
       "<p>147 rows × 5 columns</p>\n",
       "</div>"
      ],
      "text/plain": [
       "     SepalLengthCm  SepalWidthCm  PetalLengthCm  PetalWidthCm         Species\n",
       "1              4.9           3.0            1.4           0.2     Iris-setosa\n",
       "2              4.7           3.2            1.3           0.2     Iris-setosa\n",
       "3              4.6           3.1            1.5           0.2     Iris-setosa\n",
       "4              5.0           3.6            1.4           0.2     Iris-setosa\n",
       "5              5.4           3.9            1.7           0.4     Iris-setosa\n",
       "..             ...           ...            ...           ...             ...\n",
       "145            6.7           3.0            5.2           2.3  Iris-virginica\n",
       "146            6.3           2.5            5.0           1.9  Iris-virginica\n",
       "147            6.5           3.0            5.2           2.0  Iris-virginica\n",
       "148            6.2           3.4            5.4           2.3  Iris-virginica\n",
       "149            5.9           3.0            5.1           1.8  Iris-virginica\n",
       "\n",
       "[147 rows x 5 columns]"
      ]
     },
     "execution_count": 6,
     "metadata": {},
     "output_type": "execute_result"
    }
   ],
   "source": [
    "df"
   ]
  },
  {
   "cell_type": "code",
   "execution_count": 7,
   "id": "aa99e71e",
   "metadata": {},
   "outputs": [
    {
     "data": {
      "image/png": "[encoded data removed]",
      "text/plain": [
       "<Figure size 432x288 with 1 Axes>"
      ]
     },
     "metadata": {
      "needs_background": "light"
     },
     "output_type": "display_data"
    }
   ],
   "source": [
    "# plotting the df with different colors for different classes\n",
    "plt.scatter(df[df[\"Species\"]==\"Iris-setosa\"][\"PetalLengthCm\"],df[df[\"Species\"]==\"Iris-setosa\"][\"PetalWidthCm\"],color=\"red\")\n",
    "plt.scatter(df[df[\"Species\"]==\"Iris-versicolor\"][\"PetalLengthCm\"],df[df[\"Species\"]==\"Iris-versicolor\"][\"PetalWidthCm\"],color=\"blue\")\n",
    "plt.scatter(df[df[\"Species\"]==\"Iris-virginica\"][\"PetalLengthCm\"],df[df[\"Species\"]==\"Iris-virginica\"][\"PetalWidthCm\"],color=\"green\")\n",
    "# labelling the legend\n",
    "plt.legend([\"Iris-setosa\",\"Iris-versicolor\",\"Iris-virginica\"])\n",
    "# labeling the axes\n",
    "plt.xlabel(\"Petal Length\")\n",
    "plt.ylabel(\"Petal Width\")\n",
    "# labeling the plot\n",
    "plt.title(\"Distribution of the df\")\n",
    "# displaying the plot\n",
    "plt.show()"
   ]
  },
  {
   "cell_type": "code",
   "execution_count": 8,
   "id": "7d34f9a7",
   "metadata": {},
   "outputs": [],
   "source": [
    "# seperating the data into three classes\n",
    "setosa = df[df[\"Species\"]==\"Iris-setosa\"]\n",
    "versicolor = df[df[\"Species\"]==\"Iris-versicolor\"]\n",
    "virginica = df[df[\"Species\"]==\"Iris-virginica\"]"
   ]
  },
  {
   "cell_type": "code",
   "execution_count": 9,
   "id": "7ea0a191",
   "metadata": {},
   "outputs": [],
   "source": [
    "# dropping the species column\n",
    "setosa = setosa.drop([\"Species\"],axis=1)\n",
    "versicolor = versicolor.drop([\"Species\"],axis=1)\n",
    "virginica = virginica.drop([\"Species\"],axis=1)"
   ]
  },
  {
   "cell_type": "code",
   "execution_count": 10,
   "id": "5b637356",
   "metadata": {},
   "outputs": [
    {
     "name": "stdout",
     "output_type": "stream",
     "text": [
      "The species of flower 1 is Iris-setosa\n",
      "The species of flower 51 is Iris-versicolor\n",
      "The species of flower 101 is Iris-virginica\n"
     ]
    }
   ],
   "source": [
    "# dropping the species from the flowers 1,2 and 3 and displaying them\n",
    "flower1_species = flower1[\"Species\"]\n",
    "flower2_species = flower2[\"Species\"]\n",
    "flower3_species = flower3[\"Species\"]\n",
    "flower1 = flower1.drop([\"Species\"])\n",
    "flower2 = flower2.drop([\"Species\"])\n",
    "flower3 = flower3.drop([\"Species\"])\n",
    "print(\"The species of flower 1 is\",flower1_species)\n",
    "print(\"The species of flower 51 is\",flower2_species)\n",
    "print(\"The species of flower 101 is\",flower3_species)"
   ]
  },
  {
   "cell_type": "code",
   "execution_count": 11,
   "id": "aefc209e",
   "metadata": {},
   "outputs": [],
   "source": [
    "# function to find the mahalanobis distance between two points\n",
    "def mahalanobis_distance(x,mean,cov):\n",
    "    return np.sqrt(np.dot(np.dot((x-mean).T,np.linalg.inv(cov)),(x-mean)))"
   ]
  },
  {
   "cell_type": "code",
   "execution_count": 12,
   "id": "ef0795d6",
   "metadata": {},
   "outputs": [
    {
     "name": "stdout",
     "output_type": "stream",
     "text": [
      "[5.1 3.8 1.5 0.3]\n"
     ]
    }
   ],
   "source": [
    "print(np.array(flower1[0:]))"
   ]
  },
  {
   "cell_type": "code",
   "execution_count": 13,
   "id": "0502d17b",
   "metadata": {},
   "outputs": [
    {
     "name": "stdout",
     "output_type": "stream",
     "text": [
      "SepalLengthCm    0.095918\n",
      "SepalWidthCm     0.383673\n",
      "PetalLengthCm    0.034694\n",
      "PetalWidthCm     0.055102\n",
      "Name: 19, dtype: object\n"
     ]
    }
   ],
   "source": [
    "print(flower1[0:]-setosa[[\"SepalLengthCm\",\"SepalWidthCm\",\"PetalLengthCm\",\"PetalWidthCm\"]].mean().values)"
   ]
  },
  {
   "cell_type": "code",
   "execution_count": 14,
   "id": "2b323eb6",
   "metadata": {},
   "outputs": [],
   "source": [
    "# finding the mahalanobis distance between the mean of each class and the test cases\n",
    "flower1_mahalanobis_distance = np.array([mahalanobis_distance(np.array(flower1[0:]),setosa[[\"SepalLengthCm\",\"SepalWidthCm\",\"PetalLengthCm\",\"PetalWidthCm\"]].mean().values,setosa[[\"SepalLengthCm\",\"SepalWidthCm\",\"PetalLengthCm\",\"PetalWidthCm\"]].cov().values),mahalanobis_distance(flower1[0:],versicolor[[\"SepalLengthCm\",\"SepalWidthCm\",\"PetalLengthCm\",\"PetalWidthCm\"]].mean().values,versicolor[[\"SepalLengthCm\",\"SepalWidthCm\",\"PetalLengthCm\",\"PetalWidthCm\"]].cov().values),mahalanobis_distance(flower1[0:],virginica[[\"SepalLengthCm\",\"SepalWidthCm\",\"PetalLengthCm\",\"PetalWidthCm\"]].mean().values,virginica[[\"SepalLengthCm\",\"SepalWidthCm\",\"PetalLengthCm\",\"PetalWidthCm\"]].cov().values)])\n",
    "flower2_mahalanobis_distance = np.array([mahalanobis_distance(flower2[0:],setosa[[\"SepalLengthCm\",\"SepalWidthCm\",\"PetalLengthCm\",\"PetalWidthCm\"]].mean().values,setosa[[\"SepalLengthCm\",\"SepalWidthCm\",\"PetalLengthCm\",\"PetalWidthCm\"]].cov().values),mahalanobis_distance(flower2[0:],versicolor[[\"SepalLengthCm\",\"SepalWidthCm\",\"PetalLengthCm\",\"PetalWidthCm\"]].mean().values,versicolor[[\"SepalLengthCm\",\"SepalWidthCm\",\"PetalLengthCm\",\"PetalWidthCm\"]].cov().values),mahalanobis_distance(flower2[0:],virginica[[\"SepalLengthCm\",\"SepalWidthCm\",\"PetalLengthCm\",\"PetalWidthCm\"]].mean().values,virginica[[\"SepalLengthCm\",\"SepalWidthCm\",\"PetalLengthCm\",\"PetalWidthCm\"]].cov().values)])\n",
    "flower3_mahalanobis_distance = np.array([mahalanobis_distance(flower3[0:],setosa[[\"SepalLengthCm\",\"SepalWidthCm\",\"PetalLengthCm\",\"PetalWidthCm\"]].mean().values,setosa[[\"SepalLengthCm\",\"SepalWidthCm\",\"PetalLengthCm\",\"PetalWidthCm\"]].cov().values),mahalanobis_distance(flower3[0:],versicolor[[\"SepalLengthCm\",\"SepalWidthCm\",\"PetalLengthCm\",\"PetalWidthCm\"]].mean().values,versicolor[[\"SepalLengthCm\",\"SepalWidthCm\",\"PetalLengthCm\",\"PetalWidthCm\"]].cov().values),mahalanobis_distance(flower3[0:],virginica[[\"SepalLengthCm\",\"SepalWidthCm\",\"PetalLengthCm\",\"PetalWidthCm\"]].mean().values,virginica[[\"SepalLengthCm\",\"SepalWidthCm\",\"PetalLengthCm\",\"PetalWidthCm\"]].cov().values)])"
   ]
  },
  {
   "cell_type": "code",
   "execution_count": 15,
   "id": "a9bd8d63",
   "metadata": {},
   "outputs": [
    {
     "name": "stdout",
     "output_type": "stream",
     "text": [
      "The mahalanobis distance between the mean of each class and flower 1 is [ 1.27030293 11.19407947 14.05686976]\n",
      "The mahalanobis distance between the mean of each class and flower 51 is [18.28561939  1.44427056  4.89073354]\n",
      "The mahalanobis distance between the mean of each class and flower 101 is [25.50823527  3.1013345   1.0482458 ]\n"
     ]
    }
   ],
   "source": [
    "# printing the mahalanobis distance\n",
    "print(\"The mahalanobis distance between the mean of each class and flower 1 is\",flower1_mahalanobis_distance)\n",
    "print(\"The mahalanobis distance between the mean of each class and flower 51 is\",flower2_mahalanobis_distance)\n",
    "print(\"The mahalanobis distance between the mean of each class and flower 101 is\",flower3_mahalanobis_distance)"
   ]
  },
  {
   "cell_type": "code",
   "execution_count": 16,
   "id": "726fc2ae",
   "metadata": {},
   "outputs": [],
   "source": [
    "# assigning the class with least mahalanobis distance to the test cases\n",
    "flower1_class = np.argmin(flower1_mahalanobis_distance)\n",
    "flower2_class = np.argmin(flower2_mahalanobis_distance)\n",
    "flower3_class = np.argmin(flower3_mahalanobis_distance)"
   ]
  },
  {
   "cell_type": "code",
   "execution_count": 17,
   "id": "4937fc12",
   "metadata": {},
   "outputs": [
    {
     "name": "stdout",
     "output_type": "stream",
     "text": [
      "The class of flower 1 is 0\n",
      "The class of flower 51 is 1\n",
      "The class of flower 101 is 2\n"
     ]
    }
   ],
   "source": [
    "# printing the class of the test cases\n",
    "print(\"The class of flower 1 is\",flower1_class)\n",
    "print(\"The class of flower 51 is\",flower2_class)\n",
    "print(\"The class of flower 101 is\",flower3_class)"
   ]
  },
  {
   "cell_type": "code",
   "execution_count": 18,
   "id": "d356d34a",
   "metadata": {},
   "outputs": [],
   "source": [
    "# assigning the species to the classes based on argument\n",
    "if flower1_class == 0:\n",
    "    flower1_class = \"Iris-setosa\"\n",
    "elif flower1_class == 1:\n",
    "    flower1_class = \"Iris-versicolor\"\n",
    "else:\n",
    "    flower1_class = \"Iris-virginica\"\n",
    "if flower2_class == 0:\n",
    "    flower2_class = \"Iris-setosa\"\n",
    "elif flower2_class == 1:\n",
    "    flower2_class = \"Iris-versicolor\"\n",
    "else:\n",
    "    flower2_class = \"Iris-virginica\"\n",
    "if flower3_class == 0:\n",
    "    flower3_class = \"Iris-setosa\"\n",
    "elif flower3_class == 1:\n",
    "    flower3_class = \"Iris-versicolor\"\n",
    "else:\n",
    "    flower3_class = \"Iris-virginica\""
   ]
  },
  {
   "cell_type": "code",
   "execution_count": 19,
   "id": "89b5a6a5",
   "metadata": {},
   "outputs": [
    {
     "data": {
      "image/png": "[encoded data removed]",
      "text/plain": [
       "<Figure size 432x288 with 1 Axes>"
      ]
     },
     "metadata": {
      "needs_background": "light"
     },
     "output_type": "display_data"
    }
   ],
   "source": [
    "# displaying the graph of dataset with the test cases\n",
    "plt.scatter(setosa[\"PetalLengthCm\"],setosa[\"PetalWidthCm\"],color=\"red\",label=\"Iris-setosa\")\n",
    "plt.scatter(versicolor[\"PetalLengthCm\"],versicolor[\"PetalWidthCm\"],color=\"blue\",label=\"Iris-versicolor\")\n",
    "plt.scatter(virginica[\"PetalLengthCm\"],virginica[\"PetalWidthCm\"],color=\"green\",label=\"Iris-virginica\")\n",
    "plt.scatter(flower1[\"PetalLengthCm\"],flower1[\"PetalWidthCm\"],color=\"orange\",label=\"flower 1\")\n",
    "plt.scatter(flower2[\"PetalLengthCm\"],flower2[\"PetalWidthCm\"],color=\"violet\",label=\"flower 2\")\n",
    "plt.scatter(flower3[\"PetalLengthCm\"],flower3[\"PetalWidthCm\"],color=\"pink\",label=\"flower 3\")\n",
    "plt.xlabel(\"Petal Length\")\n",
    "plt.ylabel(\"Petal Width\")\n",
    "plt.legend()\n",
    "plt.show()"
   ]
  },
  {
   "cell_type": "markdown",
   "id": "b6b86b89",
   "metadata": {},
   "source": [
    "# Original"
   ]
  },
  {
   "cell_type": "code",
   "execution_count": 20,
   "id": "bbf482d6",
   "metadata": {},
   "outputs": [
    {
     "name": "stdout",
     "output_type": "stream",
     "text": [
      "The species of flower 1 is Iris-setosa\n",
      "The species of flower 51 is Iris-versicolor\n",
      "The species of flower 101 is Iris-virginica\n"
     ]
    }
   ],
   "source": [
    "\n",
    "print(\"The species of flower 1 is\",flower1_species)\n",
    "print(\"The species of flower 51 is\",flower2_species)\n",
    "print(\"The species of flower 101 is\",flower3_species)"
   ]
  },
  {
   "cell_type": "markdown",
   "id": "21064550",
   "metadata": {},
   "source": [
    "# predicted"
   ]
  },
  {
   "cell_type": "code",
   "execution_count": 21,
   "id": "1807032e",
   "metadata": {},
   "outputs": [
    {
     "name": "stdout",
     "output_type": "stream",
     "text": [
      "The species of flower 1 is Iris-setosa\n",
      "The species of flower 51 is Iris-versicolor\n",
      "The species of flower 101 is Iris-virginica\n"
     ]
    }
   ],
   "source": [
    "# printing the species of the test cases\n",
    "print(\"The species of flower 1 is\",flower1_class)\n",
    "print(\"The species of flower 51 is\",flower2_class)\n",
    "print(\"The species of flower 101 is\",flower3_class)"
   ]
  },
  {
   "cell_type": "code",
   "execution_count": null,
   "id": "508d4cf4",
   "metadata": {},
   "outputs": [],
   "source": []
  }
 ],
 "metadata": {
  "kernelspec": {
   "display_name": "Python 3 (ipykernel)",
   "language": "python",
   "name": "python3"
  },
  "language_info": {
   "codemirror_mode": {
    "name": "ipython",
    "version": 3
   },
   "file_extension": ".py",
   "mimetype": "text/x-python",
   "name": "python",
   "nbconvert_exporter": "python",
   "pygments_lexer": "ipython3",
   "version": "3.9.12"
  }
 },
 "nbformat": 4,
 "nbformat_minor": 5
}
