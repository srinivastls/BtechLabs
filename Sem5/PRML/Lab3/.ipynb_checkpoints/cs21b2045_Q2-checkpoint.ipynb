{
 "cells": [
  {
   "cell_type": "code",
   "execution_count": 2,
   "id": "c5cc915c",
   "metadata": {},
   "outputs": [],
   "source": [
    "import numpy as np\n",
    "import pandas as pd\n",
    "import matplotlib.pyplot as plt"
   ]
  },
  {
   "cell_type": "code",
   "execution_count": 3,
   "id": "d2cad5d0",
   "metadata": {},
   "outputs": [],
   "source": [
    "# Given data\n",
    "data = {\n",
    "    \"Hours Studied\": [2, 3, 4, 5, 6, 7],\n",
    "    \"Hours Watching TV\": [4, 3, 2, 1, 0, 0],\n",
    "    \"Outdoor Activity Time\": [2, 4, 6, 8, 10, 12],\n",
    "    \"Hours Listening to Music\": [2, 3, 4, 1, 5, 0],\n",
    "    \"Water Consumed\": [5, 6, 5, 6, 4, 5],\n",
    "    \"Test Score\": [65, 70, 75, 80, 85, 90]\n",
    "}"
   ]
  },
  {
   "cell_type": "code",
   "execution_count": 6,
   "id": "8843b636",
   "metadata": {},
   "outputs": [],
   "source": [
    "#converting to dataframe\n",
    "df=pd.DataFrame(data)"
   ]
  },
  {
   "cell_type": "code",
   "execution_count": 7,
   "id": "da8baf4c",
   "metadata": {},
   "outputs": [
    {
     "data": {
      "text/html": [
       "<div>\n",
       "<style scoped>\n",
       "    .dataframe tbody tr th:only-of-type {\n",
       "        vertical-align: middle;\n",
       "    }\n",
       "\n",
       "    .dataframe tbody tr th {\n",
       "        vertical-align: top;\n",
       "    }\n",
       "\n",
       "    .dataframe thead th {\n",
       "        text-align: right;\n",
       "    }\n",
       "</style>\n",
       "<table border=\"1\" class=\"dataframe\">\n",
       "  <thead>\n",
       "    <tr style=\"text-align: right;\">\n",
       "      <th></th>\n",
       "      <th>Hours Studied</th>\n",
       "      <th>Hours Watching TV</th>\n",
       "      <th>Outdoor Activity Time</th>\n",
       "      <th>Hours Listening to Music</th>\n",
       "      <th>Water Consumed</th>\n",
       "      <th>Test Score</th>\n",
       "    </tr>\n",
       "  </thead>\n",
       "  <tbody>\n",
       "    <tr>\n",
       "      <th>0</th>\n",
       "      <td>2</td>\n",
       "      <td>4</td>\n",
       "      <td>2</td>\n",
       "      <td>2</td>\n",
       "      <td>5</td>\n",
       "      <td>65</td>\n",
       "    </tr>\n",
       "    <tr>\n",
       "      <th>1</th>\n",
       "      <td>3</td>\n",
       "      <td>3</td>\n",
       "      <td>4</td>\n",
       "      <td>3</td>\n",
       "      <td>6</td>\n",
       "      <td>70</td>\n",
       "    </tr>\n",
       "    <tr>\n",
       "      <th>2</th>\n",
       "      <td>4</td>\n",
       "      <td>2</td>\n",
       "      <td>6</td>\n",
       "      <td>4</td>\n",
       "      <td>5</td>\n",
       "      <td>75</td>\n",
       "    </tr>\n",
       "    <tr>\n",
       "      <th>3</th>\n",
       "      <td>5</td>\n",
       "      <td>1</td>\n",
       "      <td>8</td>\n",
       "      <td>1</td>\n",
       "      <td>6</td>\n",
       "      <td>80</td>\n",
       "    </tr>\n",
       "    <tr>\n",
       "      <th>4</th>\n",
       "      <td>6</td>\n",
       "      <td>0</td>\n",
       "      <td>10</td>\n",
       "      <td>5</td>\n",
       "      <td>4</td>\n",
       "      <td>85</td>\n",
       "    </tr>\n",
       "    <tr>\n",
       "      <th>5</th>\n",
       "      <td>7</td>\n",
       "      <td>0</td>\n",
       "      <td>12</td>\n",
       "      <td>0</td>\n",
       "      <td>5</td>\n",
       "      <td>90</td>\n",
       "    </tr>\n",
       "  </tbody>\n",
       "</table>\n",
       "</div>"
      ],
      "text/plain": [
       "   Hours Studied  Hours Watching TV  Outdoor Activity Time  \\\n",
       "0              2                  4                      2   \n",
       "1              3                  3                      4   \n",
       "2              4                  2                      6   \n",
       "3              5                  1                      8   \n",
       "4              6                  0                     10   \n",
       "5              7                  0                     12   \n",
       "\n",
       "   Hours Listening to Music  Water Consumed  Test Score  \n",
       "0                         2               5          65  \n",
       "1                         3               6          70  \n",
       "2                         4               5          75  \n",
       "3                         1               6          80  \n",
       "4                         5               4          85  \n",
       "5                         0               5          90  "
      ]
     },
     "execution_count": 7,
     "metadata": {},
     "output_type": "execute_result"
    }
   ],
   "source": [
    "df"
   ]
  },
  {
   "cell_type": "code",
   "execution_count": 8,
   "id": "4c257a4a",
   "metadata": {},
   "outputs": [],
   "source": [
    "def corr_coef(x, y):\n",
    "    mean_x = x.mean()\n",
    "    mean_y = y.mean()\n",
    "    numerator = np.sum((x - mean_x) * (y - mean_y))\n",
    "    denominator = np.sqrt(np.sum((x - mean_x) ** 2) * np.sum((y - mean_y) ** 2))\n",
    "    corr = numerator / denominator\n",
    "    return corr"
   ]
  },
  {
   "cell_type": "markdown",
   "id": "53b2460e",
   "metadata": {},
   "source": [
    "Based on the provided data, calculate and interpret the correlation coefficient for each variable in relation to the test scores. Identify the variables that show a positive correlation, a negative correlation, and no significant correlation with the test scores."
   ]
  },
  {
   "cell_type": "code",
   "execution_count": 10,
   "id": "e1d48451",
   "metadata": {},
   "outputs": [],
   "source": [
    "corr_hours_studied = corr_coef(df[\"Hours Studied\"], df[\"Test Score\"])\n",
    "corr_hours_watching_tv = corr_coef(df[\"Hours Watching TV\"], df[\"Test Score\"])\n",
    "corr_hours_listening_to_music = corr_coef(df[\"Hours Listening to Music\"], df[\"Test Score\"])\n",
    "corr_water_consumed = corr_coef(df[\"Water Consumed\"], df[\"Test Score\"])\n",
    "corr_outdoor_activity_time = corr_coef(df[\"Outdoor Activity Time\"], df[\"Test Score\"])"
   ]
  },
  {
   "cell_type": "code",
   "execution_count": 13,
   "id": "091d115b",
   "metadata": {},
   "outputs": [],
   "source": [
    "def interpretation(corr):\n",
    "    if corr > 0:\n",
    "        return \" positive correlation\"\n",
    "    elif corr < 0:\n",
    "        return \"negative correlation\"\n",
    "    else:\n",
    "        return \"no significant correlation\""
   ]
  },
  {
   "cell_type": "code",
   "execution_count": 15,
   "id": "f86c07ff",
   "metadata": {},
   "outputs": [
    {
     "name": "stdout",
     "output_type": "stream",
     "text": [
      "hours studied vs score:  positive correlation\n",
      "Hours Watching TV vs score: negative correlation\n",
      "Hours Listening to Music vs score: negative correlation\n",
      "Water Consumed vs score: negative correlation\n",
      "Outdoor Activity Time vs score:  positive correlation\n"
     ]
    }
   ],
   "source": [
    "print(\"hours studied vs score:\",interpretation(corr_hours_studied))\n",
    "print(\"Hours Watching TV vs score:\",interpretation(corr_hours_watching_tv))\n",
    "print(\"Hours Listening to Music vs score:\",interpretation(corr_hours_listening_to_music))\n",
    "print(\"Water Consumed vs score:\",interpretation(corr_water_consumed))\n",
    "print(\"Outdoor Activity Time vs score:\",interpretation(corr_outdoor_activity_time))"
   ]
  },
  {
   "cell_type": "markdown",
   "id": "42febe7a",
   "metadata": {},
   "source": [
    "###  Q)Explain why there might be a positive correlation between the \"Hours Studied\" variable and the test scores. Provide a brief discussion on how this information could be valuable for improving academic performance."
   ]
  },
  {
   "cell_type": "raw",
   "id": "730a9467",
   "metadata": {},
   "source": [
    "The positive correlation between the Hours Studied and test scores suggests that there is a tendency for individuals who spend more time studying to achieve higher test scores.\n",
    "\n",
    "The positive correlation between \"Hours Studied\" and test scores highlights the importance of focused and consistent study habits in achieving better academic outcomes. It reinforces the idea that effort and dedication are key factors in excelling academically."
   ]
  },
  {
   "cell_type": "markdown",
   "id": "96c0c351",
   "metadata": {},
   "source": [
    "### Q)Calculate and interpret the correlation coefficient between \"Hours Watching TV\" and test scores. Explain the implications of this correlation in terms of academic achievement and time management."
   ]
  },
  {
   "cell_type": "raw",
   "id": "c53cf535",
   "metadata": {},
   "source": [
    "The correlation coefficient between \"Hours Watching TV\" and test scores is approximately -0.885. This strong negative correlation suggests that there is an inverse relationship between the amount of time spent watching TV and the test scores achieved by individuals. \n",
    "\n",
    "                    *** In Terms of academic achievement ***\n",
    "         1)Distraction from Studying\n",
    "         2)Lack of Focus\n",
    "         3)Reduced Learning Opportunities\n",
    "         \n",
    "         \n",
    "                   *** In Terms of Time Management ***\n",
    "         1)Balancing Leisure and Study\n",
    "         2)Priority Setting\n",
    "         3)Efficient Use of Free Time\n",
    "         4)Creating Study Blocks\n",
    "\n",
    "The strong negative correlation between \"Hours Watching TV\" and test scores underscores the need for effective time management and responsible leisure choices. Recognizing the potential negative impact of excessive TV watching on academic achievement encourages students to strike a balance between leisure activities and study commitments, ultimately leading to better academic performance and personal development."
   ]
  },
  {
   "cell_type": "markdown",
   "id": "36635f69",
   "metadata": {},
   "source": [
    "### Q)Calculate and interpret the correlation coefficient between \"Hours Listening to Music\" and test scores. Discuss the potential impact of this correlation on concentration and study habits."
   ]
  },
  {
   "cell_type": "raw",
   "id": "d1aa7878",
   "metadata": {},
   "source": [
    "The correlation coefficient between \"Hours Listening to Music\" and test scores is approximately 0.175. This weak positive correlation suggests that there is a slight tendency for individuals who spend more time listening to music to achieve slightly higher test scores.\n",
    "\n",
    "\n",
    "Impact on Concentration:\n",
    "1)Distraction vs. Enhancement\n",
    "2)Individual Preferences\n",
    "3)Task Complexity\n",
    "\n",
    "Impact on Study Habits:\n",
    "1)Distraction Management\n",
    "2)Mindful Selection\n",
    "3)Study Environment\n",
    "\n",
    "The weak positive correlation between \"Hours Listening to Music\" and test scores suggests that music might have a minor impact on academic performance for some individuals. However, the impact on concentration and study habits varies widely based on personal preferences and the nature of the study tasks. Students should experiment with different study environments and strategies to determine whether and how music can contribute positively to their concentration and study routines."
   ]
  },
  {
   "cell_type": "markdown",
   "id": "e9d49c93",
   "metadata": {},
   "source": [
    "### Calculate and interpret the correlation coefficient between \"Water Consumed\" and test scores. Provide a potential explanation for the observed correlation and its relevance to cognitive function."
   ]
  },
  {
   "cell_type": "raw",
   "id": "529b3587",
   "metadata": {},
   "source": [
    "The correlation coefficient between \"Water Consumed\" and test scores is approximately 0.425. This moderate positive correlation suggests that there is a meaningful relationship between the amount of water consumed and the test scores achieved by individuals.\n",
    "\n",
    "Relevance to Cognitive Function:\n",
    "1)Hydration and Brain Function\n",
    "2)Reduction in Cognitive Fatigue\n",
    "3)Memory Retention\n",
    "\n",
    "The correlation between \"Water Consumed\" and test scores might be due to the fact that individuals who are more conscious of their hydration needs also tend to be more health-conscious overall. They may adopt healthier habits, including proper nutrition, regular exercise, and sufficient sleep. These combined factors can contribute to better cognitive function and test performance.\n",
    "\n",
    "\n",
    "Relevane to academic Performance:\n",
    "\n",
    "1)Hydration Awareness\n",
    "2)Balanced lifestyle\n",
    "3)Healthy study Habits\n",
    "\n",
    "\n",
    "The moderate positive correlation between \"Water Consumed\" and test scores underscores the essential role of hydration in cognitive function and academic performance. Maintaining proper hydration levels is a simple yet effective strategy to support cognitive processes, enhance focus, and improve test performance. Students are encouraged to prioritize hydration as part of their overall study and wellness routines."
   ]
  },
  {
   "cell_type": "markdown",
   "id": "55b1053d",
   "metadata": {},
   "source": [
    "### Calculate and interpret the correlation coefficient between \"Outdoor Activity Time\" and test scores. Discuss how physical activity might influence academic performance."
   ]
  },
  {
   "cell_type": "raw",
   "id": "21ffa84d",
   "metadata": {},
   "source": [
    "The correlation coefficient between \"Outdoor Activity Time\" and test scores is approximately 0.675. This moderate positive correlation indicates that there is a meaningful relationship between the amount of time spent on outdoor activities and the test scores achieved by individuals.\n",
    "\n",
    "Influence of Physical Activity on Academic Performance:\n",
    "1)Improved Mood and Well-Being\n",
    "2)Enhanced Cognitive Function\n",
    "3)Stress Reduction\n",
    "4)Better Sleep quality\n",
    "\n",
    "\n",
    "the moderate positive correlation between \"Outdoor Activity Time\" and test scores underscores the positive influence of physical activity on cognitive function and academic performance. Incorporating outdoor activities into one's routine can lead to improved mood, enhanced cognitive abilities, stress reduction, and overall well-being—all of which contribute to better academic outcomes. Students are encouraged to find a balance between indoor study time and outdoor activities to maximize their academic potential."
   ]
  },
  {
   "cell_type": "code",
   "execution_count": null,
   "id": "d70b94ef",
   "metadata": {},
   "outputs": [],
   "source": []
  }
 ],
 "metadata": {
  "kernelspec": {
   "display_name": "Python 3 (ipykernel)",
   "language": "python",
   "name": "python3"
  },
  "language_info": {
   "codemirror_mode": {
    "name": "ipython",
    "version": 3
   },
   "file_extension": ".py",
   "mimetype": "text/x-python",
   "name": "python",
   "nbconvert_exporter": "python",
   "pygments_lexer": "ipython3",
   "version": "3.9.12"
  }
 },
 "nbformat": 4,
 "nbformat_minor": 5
}
