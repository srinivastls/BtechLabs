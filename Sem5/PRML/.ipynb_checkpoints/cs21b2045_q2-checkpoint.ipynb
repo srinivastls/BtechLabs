{
 "cells": [
  {
   "cell_type": "code",
   "execution_count": 12,
   "metadata": {
    "id": "nMIX0zc7KrpF"
   },
   "outputs": [],
   "source": [
    "import pandas as pd\n",
    "import numpy as np\n",
    "import matplotlib.pyplot as plt"
   ]
  },
  {
   "cell_type": "code",
   "execution_count": 13,
   "metadata": {
    "id": "77QeXs8nMLYw"
   },
   "outputs": [],
   "source": [
    "from os import access\n",
    "column =['Name','account num','account type','aadhar no','balance']\n",
    "sbiacc ={\"Name\" :[\"Ram\",\"Sam\",\"Prabhu\"],\"account num\":[9893893891,9893893898,9893893871],\"account type\":[\"SB\",\"CA\",\"SB\"],\"aadhar no\":[959389389173,959389389179,959389389159],\"balance\":[8989460,896521,568932]}\n",
    "acc=pd.DataFrame(sbiacc)\n"
   ]
  },
  {
   "cell_type": "code",
   "execution_count": 14,
   "metadata": {
    "colab": {
     "base_uri": "https://localhost:8080/",
     "height": 143
    },
    "id": "y5rrnFrjTMXe",
    "outputId": "1e89a345-daba-4f45-f8d1-975ea9200f4c"
   },
   "outputs": [
    {
     "data": {
      "text/html": [
       "<div>\n",
       "<style scoped>\n",
       "    .dataframe tbody tr th:only-of-type {\n",
       "        vertical-align: middle;\n",
       "    }\n",
       "\n",
       "    .dataframe tbody tr th {\n",
       "        vertical-align: top;\n",
       "    }\n",
       "\n",
       "    .dataframe thead th {\n",
       "        text-align: right;\n",
       "    }\n",
       "</style>\n",
       "<table border=\"1\" class=\"dataframe\">\n",
       "  <thead>\n",
       "    <tr style=\"text-align: right;\">\n",
       "      <th></th>\n",
       "      <th>Name</th>\n",
       "      <th>account num</th>\n",
       "      <th>account type</th>\n",
       "      <th>aadhar no</th>\n",
       "      <th>balance</th>\n",
       "    </tr>\n",
       "  </thead>\n",
       "  <tbody>\n",
       "    <tr>\n",
       "      <th></th>\n",
       "      <td>Ram</td>\n",
       "      <td>9893893891</td>\n",
       "      <td>SB</td>\n",
       "      <td>959389389173</td>\n",
       "      <td>8989460</td>\n",
       "    </tr>\n",
       "    <tr>\n",
       "      <th></th>\n",
       "      <td>Sam</td>\n",
       "      <td>9893893898</td>\n",
       "      <td>CA</td>\n",
       "      <td>959389389179</td>\n",
       "      <td>896521</td>\n",
       "    </tr>\n",
       "    <tr>\n",
       "      <th></th>\n",
       "      <td>Prabhu</td>\n",
       "      <td>9893893871</td>\n",
       "      <td>SB</td>\n",
       "      <td>959389389159</td>\n",
       "      <td>568932</td>\n",
       "    </tr>\n",
       "  </tbody>\n",
       "</table>\n",
       "</div>"
      ],
      "text/plain": [
       "    Name  account num account type     aadhar no  balance\n",
       "     Ram   9893893891           SB  959389389173  8989460\n",
       "     Sam   9893893898           CA  959389389179   896521\n",
       "  Prabhu   9893893871           SB  959389389159   568932"
      ]
     },
     "execution_count": 14,
     "metadata": {},
     "output_type": "execute_result"
    }
   ],
   "source": [
    "blankIndex=[''] * len(acc)\n",
    "acc.index=blankIndex\n",
    "acc"
   ]
  },
  {
   "cell_type": "code",
   "execution_count": 15,
   "metadata": {
    "colab": {
     "base_uri": "https://localhost:8080/",
     "height": 143
    },
    "id": "cnls1pSoUKCT",
    "outputId": "7c2f9349-ca99-403f-b3ca-915ca0d8eb36"
   },
   "outputs": [
    {
     "data": {
      "text/html": [
       "<div>\n",
       "<style scoped>\n",
       "    .dataframe tbody tr th:only-of-type {\n",
       "        vertical-align: middle;\n",
       "    }\n",
       "\n",
       "    .dataframe tbody tr th {\n",
       "        vertical-align: top;\n",
       "    }\n",
       "\n",
       "    .dataframe thead th {\n",
       "        text-align: right;\n",
       "    }\n",
       "</style>\n",
       "<table border=\"1\" class=\"dataframe\">\n",
       "  <thead>\n",
       "    <tr style=\"text-align: right;\">\n",
       "      <th></th>\n",
       "      <th>Name</th>\n",
       "      <th>account num</th>\n",
       "      <th>account type</th>\n",
       "      <th>aadhar no</th>\n",
       "      <th>balance</th>\n",
       "    </tr>\n",
       "  </thead>\n",
       "  <tbody>\n",
       "    <tr>\n",
       "      <th>0</th>\n",
       "      <td>Ram</td>\n",
       "      <td>9893893891</td>\n",
       "      <td>SB</td>\n",
       "      <td>959389389173</td>\n",
       "      <td>8989460</td>\n",
       "    </tr>\n",
       "    <tr>\n",
       "      <th>1</th>\n",
       "      <td>Sam</td>\n",
       "      <td>9893893898</td>\n",
       "      <td>CA</td>\n",
       "      <td>959389389179</td>\n",
       "      <td>896521</td>\n",
       "    </tr>\n",
       "    <tr>\n",
       "      <th>2</th>\n",
       "      <td>Prabhu</td>\n",
       "      <td>9893893871</td>\n",
       "      <td>SB</td>\n",
       "      <td>959389389159</td>\n",
       "      <td>568932</td>\n",
       "    </tr>\n",
       "  </tbody>\n",
       "</table>\n",
       "</div>"
      ],
      "text/plain": [
       "     Name  account num account type     aadhar no  balance\n",
       "0     Ram   9893893891           SB  959389389173  8989460\n",
       "1     Sam   9893893898           CA  959389389179   896521\n",
       "2  Prabhu   9893893871           SB  959389389159   568932"
      ]
     },
     "execution_count": 15,
     "metadata": {},
     "output_type": "execute_result"
    }
   ],
   "source": [
    "path=\"/Users/LakshmiSrinivas/Desktop/PRML/\"\n",
    "acc.to_csv(path +\"SBIAccountHolder.csv\",index=False)\n",
    "x = pd.read_csv(path+\"SBIAccountHolder.csv\")\n",
    "x"
   ]
  },
  {
   "cell_type": "code",
   "execution_count": 16,
   "metadata": {
    "id": "X3sfL1Ry3a_5"
   },
   "outputs": [],
   "source": [
    "f_acc=acc.copy()"
   ]
  },
  {
   "cell_type": "code",
   "execution_count": 17,
   "metadata": {
    "colab": {
     "base_uri": "https://localhost:8080/",
     "height": 1000
    },
    "id": "Y3RgQ40jhqhy",
    "outputId": "139fc52f-c557-4e60-e14d-e1693d77152e"
   },
   "outputs": [
    {
     "name": "stdout",
     "output_type": "stream",
     "text": [
      "1. Append Record of Account Holder\n",
      "2. Delete Record of Account Holder\n",
      "3. Credit amount\n",
      "4. Debit Amount\n",
      "5. Print Account Details\n",
      "6. Exit\n",
      "Enter your choice : 4\n",
      "Enter Account Number to debit amount : 100\n",
      "Enter amount to be debited : 20\n"
     ]
    },
    {
     "ename": "ValueError",
     "evalue": "The truth value of a Series is ambiguous. Use a.empty, a.bool(), a.item(), a.any() or a.all().",
     "output_type": "error",
     "traceback": [
      "\u001b[1;31m---------------------------------------------------------------------------\u001b[0m",
      "\u001b[1;31mValueError\u001b[0m                                Traceback (most recent call last)",
      "Input \u001b[1;32mIn [17]\u001b[0m, in \u001b[0;36m<cell line: 56>\u001b[1;34m()\u001b[0m\n\u001b[0;32m     63\u001b[0m   credit_amt(f_acc)\n\u001b[0;32m     64\u001b[0m \u001b[38;5;28;01melif\u001b[39;00m(ch\u001b[38;5;241m==\u001b[39m\u001b[38;5;241m4\u001b[39m) :\n\u001b[1;32m---> 65\u001b[0m   \u001b[43mdebit_amt\u001b[49m\u001b[43m(\u001b[49m\u001b[43mf_acc\u001b[49m\u001b[43m)\u001b[49m\n\u001b[0;32m     66\u001b[0m \u001b[38;5;28;01melif\u001b[39;00m(ch\u001b[38;5;241m==\u001b[39m\u001b[38;5;241m5\u001b[39m) :\n\u001b[0;32m     67\u001b[0m   print_act(f_acc)\n",
      "Input \u001b[1;32mIn [17]\u001b[0m, in \u001b[0;36mdebit_amt\u001b[1;34m(f_acc)\u001b[0m\n\u001b[0;32m     39\u001b[0m amt\u001b[38;5;241m=\u001b[39m\u001b[38;5;28mint\u001b[39m(\u001b[38;5;28minput\u001b[39m(\u001b[38;5;124m\"\u001b[39m\u001b[38;5;124mEnter amount to be debited : \u001b[39m\u001b[38;5;124m\"\u001b[39m))\n\u001b[0;32m     40\u001b[0m pos\u001b[38;5;241m=\u001b[39mpd\u001b[38;5;241m.\u001b[39mDataFrame(f_acc\u001b[38;5;241m.\u001b[39mloc[f_acc[\u001b[38;5;124m\"\u001b[39m\u001b[38;5;124maccount num\u001b[39m\u001b[38;5;124m\"\u001b[39m]\u001b[38;5;241m==\u001b[39macc_no])\n\u001b[1;32m---> 41\u001b[0m \u001b[38;5;28;01mif\u001b[39;00m(\u001b[43m(\u001b[49m\u001b[43mpos\u001b[49m\u001b[43m[\u001b[49m\u001b[38;5;124;43m\"\u001b[39;49m\u001b[38;5;124;43mbalance\u001b[39;49m\u001b[38;5;124;43m\"\u001b[39;49m\u001b[43m]\u001b[49m\u001b[38;5;241;43m>\u001b[39;49m\u001b[38;5;241;43m=\u001b[39;49m\u001b[43mamt\u001b[49m\u001b[43m)\u001b[49m\u001b[38;5;241;43m.\u001b[39;49m\u001b[43mbool\u001b[49m\u001b[43m(\u001b[49m\u001b[43m)\u001b[49m) :\n\u001b[0;32m     43\u001b[0m   pos[\u001b[38;5;124m\"\u001b[39m\u001b[38;5;124mbalance\u001b[39m\u001b[38;5;124m\"\u001b[39m]\u001b[38;5;241m-\u001b[39m\u001b[38;5;241m=\u001b[39mamt\n\u001b[0;32m     44\u001b[0m   f_acc\u001b[38;5;241m.\u001b[39mloc[f_acc[\u001b[38;5;124m\"\u001b[39m\u001b[38;5;124maccount num\u001b[39m\u001b[38;5;124m\"\u001b[39m]\u001b[38;5;241m==\u001b[39macc_no]\u001b[38;5;241m=\u001b[39mpos\n",
      "File \u001b[1;32m~\\anaconda3\\lib\\site-packages\\pandas\\core\\generic.py:1577\u001b[0m, in \u001b[0;36mNDFrame.bool\u001b[1;34m(self)\u001b[0m\n\u001b[0;32m   1571\u001b[0m \u001b[38;5;28;01melif\u001b[39;00m is_scalar(v):\n\u001b[0;32m   1572\u001b[0m     \u001b[38;5;28;01mraise\u001b[39;00m \u001b[38;5;167;01mValueError\u001b[39;00m(\n\u001b[0;32m   1573\u001b[0m         \u001b[38;5;124m\"\u001b[39m\u001b[38;5;124mbool cannot act on a non-boolean single element \u001b[39m\u001b[38;5;124m\"\u001b[39m\n\u001b[0;32m   1574\u001b[0m         \u001b[38;5;124mf\u001b[39m\u001b[38;5;124m\"\u001b[39m\u001b[38;5;132;01m{\u001b[39;00m\u001b[38;5;28mtype\u001b[39m(\u001b[38;5;28mself\u001b[39m)\u001b[38;5;241m.\u001b[39m\u001b[38;5;18m__name__\u001b[39m\u001b[38;5;132;01m}\u001b[39;00m\u001b[38;5;124m\"\u001b[39m\n\u001b[0;32m   1575\u001b[0m     )\n\u001b[1;32m-> 1577\u001b[0m \u001b[38;5;28;43mself\u001b[39;49m\u001b[38;5;241;43m.\u001b[39;49m\u001b[43m__nonzero__\u001b[49m\u001b[43m(\u001b[49m\u001b[43m)\u001b[49m\n",
      "File \u001b[1;32m~\\anaconda3\\lib\\site-packages\\pandas\\core\\generic.py:1527\u001b[0m, in \u001b[0;36mNDFrame.__nonzero__\u001b[1;34m(self)\u001b[0m\n\u001b[0;32m   1525\u001b[0m \u001b[38;5;129m@final\u001b[39m\n\u001b[0;32m   1526\u001b[0m \u001b[38;5;28;01mdef\u001b[39;00m \u001b[38;5;21m__nonzero__\u001b[39m(\u001b[38;5;28mself\u001b[39m):\n\u001b[1;32m-> 1527\u001b[0m     \u001b[38;5;28;01mraise\u001b[39;00m \u001b[38;5;167;01mValueError\u001b[39;00m(\n\u001b[0;32m   1528\u001b[0m         \u001b[38;5;124mf\u001b[39m\u001b[38;5;124m\"\u001b[39m\u001b[38;5;124mThe truth value of a \u001b[39m\u001b[38;5;132;01m{\u001b[39;00m\u001b[38;5;28mtype\u001b[39m(\u001b[38;5;28mself\u001b[39m)\u001b[38;5;241m.\u001b[39m\u001b[38;5;18m__name__\u001b[39m\u001b[38;5;132;01m}\u001b[39;00m\u001b[38;5;124m is ambiguous. \u001b[39m\u001b[38;5;124m\"\u001b[39m\n\u001b[0;32m   1529\u001b[0m         \u001b[38;5;124m\"\u001b[39m\u001b[38;5;124mUse a.empty, a.bool(), a.item(), a.any() or a.all().\u001b[39m\u001b[38;5;124m\"\u001b[39m\n\u001b[0;32m   1530\u001b[0m     )\n",
      "\u001b[1;31mValueError\u001b[0m: The truth value of a Series is ambiguous. Use a.empty, a.bool(), a.item(), a.any() or a.all()."
     ]
    }
   ],
   "source": [
    "def menu() :\n",
    "  print(\"1. Append Record of Account Holder\")\n",
    "  print(\"2. Delete Record of Account Holder\")\n",
    "  print(\"3. Credit amount\")\n",
    "  print(\"4. Debit Amount\")\n",
    "  print(\"5. Print Account Details\")\n",
    "  print(\"6. Exit\")\n",
    "\n",
    "def add_row(f_acc,f_acc1) :\n",
    "  print(f_acc)\n",
    "  name=input(\"Enter Account Holder Name : \")\n",
    "  acc_no=int(input(\"Enter Account Number : \"))\n",
    "  acc_type=input(\"Enter Account Type : \")\n",
    "  aad_no=int(input(\"Enter Aadhaar Number : \"))\n",
    "  balance=int(input(\"Enter Balance Amount : \"))\n",
    "  li={\"Name\" : name,\"account num\" : [acc_no],\"account type\" : [acc_type],\"aadhar no\" : [aad_no],\"balance\" : [balance]}\n",
    "  f_acc=pd.concat([f_acc,pd.DataFrame(li)],ignore_index=True)\n",
    "  print(f_acc)\n",
    "  f_acc.to_csv(path+\"SBIAccountHolder.csv\",index=False)\n",
    "  return f_acc,f_acc1\n",
    "\n",
    "def del_record(f_acc,f_acc1) :\n",
    "  acc_no=int(input(\"Enter Account Number to delete record : \"))\n",
    "  pos=pd.DataFrame(f_acc.loc[f_acc[\"account num\"]==acc_no])\n",
    "  f_acc.drop(f_acc.loc[f_acc[\"account num\"]==acc_no].index,inplace=True)\n",
    "\n",
    "  f_acc.to_csv(path+\"SBIAccountHolder.csv\",index=False)\n",
    "  print(f_acc)\n",
    "\n",
    "def credit_amt(f_acc) :\n",
    "  acc_no=int(input(\"Enter Account Number to credit amount : \"))\n",
    "  amount=int(input(\"Enter amount to be credited : \"))\n",
    "  f_acc.loc[f_acc.loc[f_acc[\"account num\"]==acc_no].index,\"balance\"] += amount\n",
    "  print(f_acc)\n",
    "  f_acc.to_csv(path+\"SBIAccountHolder.csv\",index=False)\n",
    "\n",
    "def debit_amt(f_acc) :\n",
    "  acc_no=int(input(\"Enter Account Number to debit amount : \"))\n",
    "  amt=int(input(\"Enter amount to be debited : \"))\n",
    "  pos=pd.DataFrame(f_acc.loc[f_acc[\"account num\"]==acc_no])\n",
    "  if((pos[\"balance\"]>=amt).bool()) :\n",
    "\n",
    "    pos[\"balance\"]-=amt\n",
    "    f_acc.loc[f_acc[\"account num\"]==acc_no]=pos\n",
    "  else :\n",
    "    print(\"Insufficent Balance\")\n",
    "  print(f_acc)\n",
    "  f_acc.to_csv(path +\"SBIAccountHolder.csv\",index=False)\n",
    "\n",
    "def print_act(f_acc) :\n",
    "  acc_no=int(input(\"Enter Account Number to print details : \"))\n",
    "  pos=f_acc.loc[f_acc[\"account num\"]==acc_no]\n",
    "  print(pos)\n",
    "\n",
    "while(1) :\n",
    "  menu()\n",
    "  ch=int(input(\"Enter your choice : \"))\n",
    "  if(ch==1) :\n",
    "    f_acc,f_acc1=add_row(f_acc,f_acc1)\n",
    "  elif(ch==2) :\n",
    "    del_record(f_acc,f_acc1)\n",
    "  elif(ch==3) :\n",
    "    credit_amt(f_acc)\n",
    "  elif(ch==4) :\n",
    "    debit_amt(f_acc)\n",
    "  elif(ch==5) :\n",
    "    print_act(f_acc)\n",
    "  elif(ch>6) :\n",
    "    print(\"Invalid Choice\")\n",
    "  elif(ch==6) :\n",
    "    break"
   ]
  },
  {
   "cell_type": "code",
   "execution_count": null,
   "metadata": {
    "id": "okUaQzW3VEQr"
   },
   "outputs": [],
   "source": []
  }
 ],
 "metadata": {
  "colab": {
   "provenance": []
  },
  "kernelspec": {
   "display_name": "Python 3 (ipykernel)",
   "language": "python",
   "name": "python3"
  },
  "language_info": {
   "codemirror_mode": {
    "name": "ipython",
    "version": 3
   },
   "file_extension": ".py",
   "mimetype": "text/x-python",
   "name": "python",
   "nbconvert_exporter": "python",
   "pygments_lexer": "ipython3",
   "version": "3.9.12"
  }
 },
 "nbformat": 4,
 "nbformat_minor": 1
}
