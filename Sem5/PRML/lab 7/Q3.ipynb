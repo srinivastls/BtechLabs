{
 "cells": [
  {
   "cell_type": "code",
   "execution_count": 1,
   "id": "af1dc554",
   "metadata": {},
   "outputs": [],
   "source": [
    "import numpy as np\n",
    "import pandas as pd\n",
    "import matplotlib.pyplot as plt\n",
    "import seaborn as sns\n",
    "import sympy\n",
    "import math"
   ]
  },
  {
   "cell_type": "code",
   "execution_count": 2,
   "id": "96374010",
   "metadata": {},
   "outputs": [],
   "source": [
    "w1 = np.array([[2, 6], [3, 4], [3, 8], [4, 6]])\n",
    "w2 = np.array([[3, 0], [1, -2], [3, -4], [5, -2]])\n"
   ]
  },
  {
   "cell_type": "code",
   "execution_count": 3,
   "id": "c0b5665d",
   "metadata": {},
   "outputs": [
    {
     "data": {
      "image/png": "[encoded data removed]",
      "text/plain": [
       "<Figure size 432x288 with 1 Axes>"
      ]
     },
     "metadata": {
      "needs_background": "light"
     },
     "output_type": "display_data"
    }
   ],
   "source": [
    "# before drwaing decision boundary plot the data\n",
    "plt.scatter(w1[:, 0], w1[:, 1], label='w1',c='red')\n",
    "plt.scatter(w2[:, 0], w2[:, 1], label='w2',c='blue')\n",
    "plt.legend()\n",
    "plt.show()\n",
    "# getting the mean of the data for both classes"
   ]
  },
  {
   "cell_type": "markdown",
   "id": "b06fb45d",
   "metadata": {},
   "source": [
    "## Step 1: Calculate the mean of the data for both classes"
   ]
  },
  {
   "cell_type": "code",
   "execution_count": 5,
   "id": "065701bb",
   "metadata": {},
   "outputs": [
    {
     "name": "stdout",
     "output_type": "stream",
     "text": [
      "The means of 2 classes are:  [3. 6.] [ 3. -2.]\n"
     ]
    }
   ],
   "source": [
    "mean1 = np.mean(w1, axis=0)\n",
    "mean2 = np.mean(w2, axis=0)\n",
    "# displaying the mean\n",
    "print(\"The means of 2 classes are: \",mean1,mean2)"
   ]
  },
  {
   "cell_type": "markdown",
   "id": "01ce4f2c",
   "metadata": {},
   "source": [
    "## Step 2: Calculate the covariance matrix for both classes "
   ]
  },
  {
   "cell_type": "code",
   "execution_count": 7,
   "id": "32aa5ad2",
   "metadata": {},
   "outputs": [
    {
     "name": "stdout",
     "output_type": "stream",
     "text": [
      "Covariance matrix of 2 classes are:\n",
      " [[2. 0.]\n",
      " [0. 8.]] \n",
      "\n",
      " [[8. 0.]\n",
      " [0. 8.]]\n"
     ]
    }
   ],
   "source": [
    "# getting the covariance matrix\n",
    "z1=np.matrix(w1-mean1)\n",
    "z2=np.matrix(w2-mean2)\n",
    "cov1=np.matmul(z1.T,z1)\n",
    "cov2=np.matmul(z2.T,z2)\n",
    "# displaying the covariance matrix\n",
    "print('Covariance matrix of 2 classes are:\\n', cov1,'\\n\\n', cov2)\n"
   ]
  },
  {
   "cell_type": "code",
   "execution_count": 8,
   "id": "ce09f82c",
   "metadata": {},
   "outputs": [],
   "source": [
    "def decision_boundary(w1,w2):\n",
    "    n=len(w1)\n",
    "    d=len(w1[0])\n",
    "\n",
    "    a1=-0.5*(np.linalg.inv(cov1))\n",
    "    a2=-0.5*(np.linalg.inv(cov2))\n",
    "    b1=np.matmul(np.linalg.inv(cov1),mean1.T)\n",
    "    b2=np.matmul(np.linalg.inv(cov2),mean2.T)\n",
    "    c10=-0.5*np.matmul(np.matmul(mean1,np.linalg.inv(cov1)),mean1.T)-0.5*math.log(np.linalg.det(cov1))\n",
    "    c20=-0.5*np.matmul(np.matmul(mean2,np.linalg.inv(cov2)),mean2.T)-0.5*math.log(np.linalg.det(cov2))\n",
    "    c10-=c20\n",
    "    a1-=a2\n",
    "    b1=b1.T-b2.T \n",
    "    x = np.linspace(-2,7,100)\n",
    "    for i in range(len(w1)):\n",
    "        plt.scatter(w1[i][0],w1[i][1],c=\"red\")\n",
    "        plt.scatter(w2[i][0],w2[i][1],c=\"green\")\n",
    "    y=np.array((-np.sum(a1[0])/b1.item(1))*(x**2)-(b1.item(0)/b1.item(1))*x-(c10/b1.item(1)))[0]\n",
    "    y=y.flatten()\n",
    "    plt.legend(['w1','w2'],loc=\"upper left\")\n",
    "    plt.title(\"The decision boundary between class1 and class2\")\n",
    "    plt.xlabel(\"X-axis\")\n",
    "    plt.ylabel(\"Y-axis\")\n",
    "    plt.plot(x,y,c=\"blue\")\n",
    "    plt.show()\n"
   ]
  },
  {
   "cell_type": "markdown",
   "id": "4b7a052c",
   "metadata": {},
   "source": [
    "## Step 4: Plot the decision boundary"
   ]
  },
  {
   "cell_type": "code",
   "execution_count": 9,
   "id": "d24bdf65",
   "metadata": {},
   "outputs": [
    {
     "data": {
      "image/png": "[encoded data removed]",
      "text/plain": [
       "<Figure size 432x288 with 1 Axes>"
      ]
     },
     "metadata": {
      "needs_background": "light"
     },
     "output_type": "display_data"
    }
   ],
   "source": [
    "decision_boundary(w1,w2)"
   ]
  }
 ],
 "metadata": {
  "kernelspec": {
   "display_name": "Python 3 (ipykernel)",
   "language": "python",
   "name": "python3"
  },
  "language_info": {
   "codemirror_mode": {
    "name": "ipython",
    "version": 3
   },
   "file_extension": ".py",
   "mimetype": "text/x-python",
   "name": "python",
   "nbconvert_exporter": "python",
   "pygments_lexer": "ipython3",
   "version": "3.9.12"
  }
 },
 "nbformat": 4,
 "nbformat_minor": 5
}
