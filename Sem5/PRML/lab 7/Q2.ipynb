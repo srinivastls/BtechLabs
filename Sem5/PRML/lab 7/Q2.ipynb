{
 "cells": [
  {
   "cell_type": "code",
   "execution_count": 8,
   "id": "857c97a9",
   "metadata": {},
   "outputs": [],
   "source": [
    "import numpy as np\n",
    "import pandas as pd\n",
    "import matplotlib.pyplot as plt\n",
    "import seaborn as sns\n",
    "import sympy"
   ]
  },
  {
   "cell_type": "code",
   "execution_count": 9,
   "id": "1a1df8b9",
   "metadata": {},
   "outputs": [],
   "source": [
    "w1 = np.array([[1, -1], [2, -5], [3, -6], [4, -10], [5, -12], [6, -15]])\n",
    "w2 = np.array([[-1, 1], [-2, 5], [-3, 6], [-4, 10], [-5, 12], [-6, 15]])"
   ]
  },
  {
   "cell_type": "code",
   "execution_count": 10,
   "id": "678ffadb",
   "metadata": {},
   "outputs": [
    {
     "data": {
      "image/png": "[encoded data removed]",
      "text/plain": [
       "<Figure size 432x288 with 1 Axes>"
      ]
     },
     "metadata": {
      "needs_background": "light"
     },
     "output_type": "display_data"
    }
   ],
   "source": [
    "# before drwaing decision boundary plot the data\n",
    "plt.scatter(w1[:, 0], w1[:, 1], label='w1',c='blue')\n",
    "plt.scatter(w2[:, 0], w2[:, 1], label='w2',c='red')\n",
    "plt.legend()\n",
    "plt.show()"
   ]
  },
  {
   "cell_type": "markdown",
   "id": "b4f5d5a7",
   "metadata": {},
   "source": [
    "## Step 1: Calculate the mean "
   ]
  },
  {
   "cell_type": "code",
   "execution_count": 11,
   "id": "e09669a9",
   "metadata": {},
   "outputs": [
    {
     "name": "stdout",
     "output_type": "stream",
     "text": [
      "The means of 2 classes are:  [ 3.5        -8.16666667] [-3.5         8.16666667]\n"
     ]
    }
   ],
   "source": [
    "# calculating the mean\n",
    "m1 = np.mean(w1, axis=0)\n",
    "m2 = np.mean(w2, axis=0)\n",
    "# displaying the mean\n",
    "print(\"The means of 2 classes are: \",m1,m2)"
   ]
  },
  {
   "cell_type": "markdown",
   "id": "b7091710",
   "metadata": {},
   "source": [
    "## Step 2: Calculate the covariance matrix"
   ]
  },
  {
   "cell_type": "code",
   "execution_count": 12,
   "id": "eea7d3bc",
   "metadata": {},
   "outputs": [
    {
     "name": "stdout",
     "output_type": "stream",
     "text": [
      "Covariance matrix of 2 classes are:\n",
      " [[ 3.5        -9.5       ]\n",
      " [-9.5        26.16666667]] \n",
      "\n",
      " [[ 3.5        -9.5       ]\n",
      " [-9.5        26.16666667]]\n"
     ]
    }
   ],
   "source": [
    "# calculating the covariance matrix\n",
    "cov_1 = np.cov(w1.T)\n",
    "cov_2 = np.cov(w2.T)\n",
    "print('Covariance matrix of 2 classes are:\\n', cov_1,'\\n\\n', cov_2)\n"
   ]
  },
  {
   "cell_type": "code",
   "execution_count": 13,
   "id": "7910f6d1",
   "metadata": {},
   "outputs": [
    {
     "name": "stdout",
     "output_type": "stream",
     "text": [
      "Covariance matrix of 2 classes are:\n",
      " [[19.625  7.125]\n",
      " [ 7.125  2.625]] \n",
      "\n",
      " [[19.625  7.125]\n",
      " [ 7.125  2.625]]\n"
     ]
    }
   ],
   "source": [
    "# calculating the inverse of the covariance matrix\n",
    "inv_cov_1 = np.linalg.inv(cov_1)\n",
    "inv_cov_2 = np.linalg.inv(cov_2)\n",
    "print('Covariance matrix of 2 classes are:\\n', inv_cov_1,'\\n\\n', inv_cov_2)"
   ]
  },
  {
   "cell_type": "markdown",
   "id": "be18b278",
   "metadata": {},
   "source": [
    "## Step 3: Calculate the decision boundary"
   ]
  },
  {
   "cell_type": "code",
   "execution_count": 14,
   "id": "f49fe31b",
   "metadata": {},
   "outputs": [],
   "source": [
    "def decision_boundary(mu1, mu2, cov1, cov2):\n",
    "    A = np.linalg.inv(cov2) - np.linalg.inv(cov1)\n",
    "    B = 2 * (mu1 @ np.linalg.inv(cov1) - mu2 @ np.linalg.inv(cov2))\n",
    "    C = mu2 @ np.linalg.inv(cov2) @ mu2.T - mu1 @ np.linalg.inv(cov1) @ mu1.T \n",
    "    - np.log(np.linalg.det(cov2) / np.linalg.det(cov1))\n",
    "    x = np.linspace(-10, 10, 100)\n",
    "    y = np.linspace(-20, 20, 100)\n",
    "    X, Y = np.meshgrid(x, y)\n",
    "    Z = A[0,0]*X**2 + (A[0,1]+A[1,0])*X*Y + A[1,1]*Y**2 + B[0]*X + B[1]*Y + C\n",
    "    return X, Y, Z"
   ]
  },
  {
   "cell_type": "markdown",
   "id": "7cccc95d",
   "metadata": {},
   "source": [
    "## Step 4: Plot the decision boundary"
   ]
  },
  {
   "cell_type": "code",
   "execution_count": 15,
   "id": "ce62fd0a",
   "metadata": {},
   "outputs": [
    {
     "data": {
      "image/png": "[encoded data removed]",
      "text/plain": [
       "<Figure size 432x288 with 1 Axes>"
      ]
     },
     "metadata": {
      "needs_background": "light"
     },
     "output_type": "display_data"
    }
   ],
   "source": [
    "X, Y, Z = decision_boundary(m1, m2, cov_1, cov_2)\n",
    "plt.contour(X, Y, Z, levels=[0], colors='k')\n",
    "plt.scatter(w1[:,0], w1[:,1], label='Class w1')\n",
    "plt.scatter(w2[:,0], w2[:,1], label='Class w2')\n",
    "plt.legend()\n",
    "plt.show()\n",
    "                          "
   ]
  }
 ],
 "metadata": {
  "kernelspec": {
   "display_name": "Python 3 (ipykernel)",
   "language": "python",
   "name": "python3"
  },
  "language_info": {
   "codemirror_mode": {
    "name": "ipython",
    "version": 3
   },
   "file_extension": ".py",
   "mimetype": "text/x-python",
   "name": "python",
   "nbconvert_exporter": "python",
   "pygments_lexer": "ipython3",
   "version": "3.9.12"
  }
 },
 "nbformat": 4,
 "nbformat_minor": 5
}
