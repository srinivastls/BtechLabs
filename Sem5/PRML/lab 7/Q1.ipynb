{
 "cells": [
  {
   "cell_type": "code",
   "execution_count": 2,
   "id": "3e2b5103",
   "metadata": {},
   "outputs": [],
   "source": [
    "# import the necessary packages\n",
    "import numpy as np\n",
    "import pandas as pd\n",
    "import matplotlib.pyplot as plt\n",
    "import seaborn as sns\n",
    "import sympy\n",
    "from statistics import stdev\n"
   ]
  },
  {
   "cell_type": "code",
   "execution_count": 3,
   "id": "df6e5d81",
   "metadata": {},
   "outputs": [],
   "source": [
    "# taking in the data\n",
    "w1 = np.array([[1, 6], [3, 4], [3, 8], [5, 6]])\n",
    "w2 = np.array([[3, 0], [1, -2], [3, -4], [5, -2]])"
   ]
  },
  {
   "cell_type": "code",
   "execution_count": 4,
   "id": "08726db3",
   "metadata": {},
   "outputs": [
    {
     "data": {
      "image/png": "[encoded data removed]",
      "text/plain": [
       "<Figure size 432x288 with 1 Axes>"
      ]
     },
     "metadata": {
      "needs_background": "light"
     },
     "output_type": "display_data"
    }
   ],
   "source": [
    "# before drwaing decision boundary plot the data\n",
    "plt.scatter(w1[:, 0], w1[:, 1], label='class 1',c='red')\n",
    "plt.scatter(w2[:, 0], w2[:, 1], label='class 2',c='blue')\n",
    "plt.legend()\n",
    "plt.show()"
   ]
  },
  {
   "cell_type": "markdown",
   "id": "a6b6ad9e",
   "metadata": {},
   "source": [
    "## Step1:calculating the mean "
   ]
  },
  {
   "cell_type": "code",
   "execution_count": 7,
   "id": "7afe153f",
   "metadata": {},
   "outputs": [
    {
     "name": "stdout",
     "output_type": "stream",
     "text": [
      "The means of 2 classes are:  [3. 6.] [ 3. -2.]\n"
     ]
    }
   ],
   "source": [
    "# calculating the mean\n",
    "m1 = np.mean(w1, axis=0)\n",
    "m2 = np.mean(w2, axis=0)\n",
    "# displaying the mean\n",
    "print(\"The means of 2 classes are: \",m1,m2)"
   ]
  },
  {
   "cell_type": "markdown",
   "id": "409a980e",
   "metadata": {},
   "source": [
    "## Step2:calculating the covariance "
   ]
  },
  {
   "cell_type": "code",
   "execution_count": 9,
   "id": "7971d433",
   "metadata": {},
   "outputs": [
    {
     "name": "stdout",
     "output_type": "stream",
     "text": [
      "Covariance matrix of 2 classes are:\n",
      " [[2.66666667 0.        ]\n",
      " [0.         2.66666667]] \n",
      "\n",
      " [[2.66666667 0.        ]\n",
      " [0.         2.66666667]]\n"
     ]
    }
   ],
   "source": [
    "# getting the covariance matrix\n",
    "cov_1 = np.cov(w1.T)\n",
    "cov_2 = np.cov(w2.T)\n",
    "# displaying the covariance matrix\n",
    "print('Covariance matrix of 2 classes are:\\n', cov_1,'\\n\\n', cov_2)"
   ]
  },
  {
   "cell_type": "markdown",
   "id": "00b01848",
   "metadata": {},
   "source": [
    "## Step 3: Calculating the decision boundary"
   ]
  },
  {
   "cell_type": "markdown",
   "id": "bd17f620",
   "metadata": {},
   "source": [
    "Since the covaraince of the classes are equal "
   ]
  },
  {
   "cell_type": "code",
   "execution_count": 12,
   "id": "3f249b7f",
   "metadata": {},
   "outputs": [
    {
     "name": "stdout",
     "output_type": "stream",
     "text": [
      "[2.00000000000000, 2.0 - 5.0*sqrt(-0.04*x1**2 + 0.24*x1 - 1), 5.0*sqrt(-0.04*x1**2 + 0.24*x1 - 1) + 2.0]\n"
     ]
    }
   ],
   "source": [
    "x1 = sympy.Symbol('x1')\n",
    "x2 = sympy.Symbol('x2')\n",
    "# X vector\n",
    "X = np.array([x1, x2])\n",
    "diff1 = X - m1\n",
    "diff2 = X - m2\n",
    "# calculating g1(x) and g2(x)\n",
    "g1_x = np.matmul(diff1.T, diff1) ** 2\n",
    "g2_x = np.matmul(diff2.T, diff2) ** 2\n",
    "# solving for x2\n",
    "b1 = sympy.simplify(g1_x - g2_x)\n",
    "b1 = sympy.solve(b1, x2)\n",
    "print(b1)\n"
   ]
  },
  {
   "cell_type": "markdown",
   "id": "64e1b917",
   "metadata": {},
   "source": [
    "## Step 4: Plotting the decision boundary"
   ]
  },
  {
   "cell_type": "code",
   "execution_count": 13,
   "id": "d13dc5ef",
   "metadata": {},
   "outputs": [
    {
     "data": {
      "image/png": "[encoded data removed]",
      "text/plain": [
       "<Figure size 432x288 with 1 Axes>"
      ]
     },
     "metadata": {
      "needs_background": "light"
     },
     "output_type": "display_data"
    }
   ],
   "source": [
    "x = np.linspace(-2, 8, 100)\n",
    "y = 2 * np.ones(100)\n",
    "plt.scatter(w1[:, 0], w1[:, 1], label='w1')\n",
    "plt.scatter(w2[:, 0], w2[:, 1], label='w2')\n",
    "plt.plot(x, y, label='Decision Boundary')\n",
    "plt.legend()\n",
    "plt.show()\n"
   ]
  }
 ],
 "metadata": {
  "kernelspec": {
   "display_name": "Python 3 (ipykernel)",
   "language": "python",
   "name": "python3"
  },
  "language_info": {
   "codemirror_mode": {
    "name": "ipython",
    "version": 3
   },
   "file_extension": ".py",
   "mimetype": "text/x-python",
   "name": "python",
   "nbconvert_exporter": "python",
   "pygments_lexer": "ipython3",
   "version": "3.9.12"
  }
 },
 "nbformat": 4,
 "nbformat_minor": 5
}
