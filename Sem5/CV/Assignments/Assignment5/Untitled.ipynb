{
 "cells": [
  {
   "cell_type": "code",
   "execution_count": 2,
   "id": "043180eb",
   "metadata": {},
   "outputs": [
    {
     "name": "stdout",
     "output_type": "stream",
     "text": [
      "Accuracy: 100.0%\n"
     ]
    }
   ],
   "source": [
    "import cv2\n",
    "import numpy as np\n",
    "\n",
    "def get_features(sift, img):\n",
    "    gray = cv2.cvtColor(img, cv2.COLOR_BGR2GRAY)\n",
    "    keypoints, descriptors = sift.detectAndCompute(gray, None)\n",
    "    return keypoints, descriptors\n",
    "\n",
    "def match_features(test_descriptor, dataset_descriptor):\n",
    "    FLANN_INDEX_KDTREE = 1\n",
    "    index_params = dict(algorithm=FLANN_INDEX_KDTREE, trees=5)\n",
    "    search_params = dict(checks=50)\n",
    "    flann = cv2.FlannBasedMatcher(index_params, search_params)\n",
    "    matches = flann.knnMatch(test_descriptor, dataset_descriptor, k=2)\n",
    "    good = [m for m, n in matches if m.distance < 0.7 * n.distance]\n",
    "    return good\n",
    "\n",
    "Names = ['ks', 'vk', 'cbn', 'chad', 'rdj', 'pv', 'j', 'jb', 'ntr', 'r', 'zk', 'rt', 'apj', 'sp']\n",
    "\n",
    "# Load Images\n",
    "dataset_images = [cv2.imread(f'/Users/LakshmiSrinivas/Desktop/CV/Assignment5/ML_Proj/{name}/{name}{i}.jpg') \n",
    "                  for name in Names for i in range(1, 11)]\n",
    "\n",
    "# Create test and train images\n",
    "test_images = [img for i, img in enumerate(dataset_images) if i % 10 == 1 or i % 10 == 2]\n",
    "train_images = [img for i, img in enumerate(dataset_images) if i % 10 not in (1, 2)]\n",
    "\n",
    "# Create a SIFT detector\n",
    "sift = cv2.SIFT_create()\n",
    "\n",
    "# Extract features for train images\n",
    "dataset_features = [get_features(sift, img) for img in dataset_images]\n",
    "\n",
    "# Extract features for test images\n",
    "test_features = [get_features(sift, img) for img in test_images]\n",
    "\n",
    "correct_matches = 0\n",
    "\n",
    "# Perform matching and accuracy calculation\n",
    "for i, test_feature in enumerate(test_features):\n",
    "    best_matches = [len(match_features(test_feature[1], dataset_features[j][1])) for j in range(len(dataset_images))]\n",
    "    best_match_idx = np.argmax(best_matches)\n",
    "    if best_match_idx // 10 == i // 2:\n",
    "        correct_matches += 1\n",
    "\n",
    "# Accuracy calculation\n",
    "accuracy = (correct_matches / len(test_images)) * 100\n",
    "print(f'Accuracy: {accuracy}%')\n"
   ]
  },
  {
   "cell_type": "code",
   "execution_count": null,
   "id": "eb2cd9fb",
   "metadata": {},
   "outputs": [],
   "source": []
  }
 ],
 "metadata": {
  "kernelspec": {
   "display_name": "Python 3 (ipykernel)",
   "language": "python",
   "name": "python3"
  },
  "language_info": {
   "codemirror_mode": {
    "name": "ipython",
    "version": 3
   },
   "file_extension": ".py",
   "mimetype": "text/x-python",
   "name": "python",
   "nbconvert_exporter": "python",
   "pygments_lexer": "ipython3",
   "version": "3.9.12"
  }
 },
 "nbformat": 4,
 "nbformat_minor": 5
}
