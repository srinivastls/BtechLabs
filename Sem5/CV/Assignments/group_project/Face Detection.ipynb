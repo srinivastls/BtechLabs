{
 "cells": [
  {
   "cell_type": "code",
   "execution_count": 2,
   "id": "7c7c8e04",
   "metadata": {},
   "outputs": [],
   "source": [
    "import numpy as np\n",
    "import matplotlib.pyplot as plt\n",
    "import cv2 as cv"
   ]
  },
  {
   "cell_type": "code",
   "execution_count": 3,
   "id": "610ae312",
   "metadata": {},
   "outputs": [
    {
     "name": "stdout",
     "output_type": "stream",
     "text": [
      "True\n"
     ]
    },
    {
     "ename": "error",
     "evalue": "OpenCV(4.6.0) D:\\a\\opencv-python\\opencv-python\\opencv\\modules\\objdetect\\src\\cascadedetect.cpp:1689: error: (-215:Assertion failed) !empty() in function 'cv::CascadeClassifier::detectMultiScale'\n",
     "output_type": "error",
     "traceback": [
      "\u001b[1;31m---------------------------------------------------------------------------\u001b[0m",
      "\u001b[1;31merror\u001b[0m                                     Traceback (most recent call last)",
      "\u001b[1;32mc:\\Users\\LakshmiSrinivas\\Desktop\\CV\\group_project\\Face Detection.ipynb Cell 2\u001b[0m line \u001b[0;36m8\n\u001b[0;32m      <a href='vscode-notebook-cell:/c%3A/Users/LakshmiSrinivas/Desktop/CV/group_project/Face%20Detection.ipynb#W1sZmlsZQ%3D%3D?line=5'>6</a>\u001b[0m \u001b[39mprint\u001b[39m(ret)\n\u001b[0;32m      <a href='vscode-notebook-cell:/c%3A/Users/LakshmiSrinivas/Desktop/CV/group_project/Face%20Detection.ipynb#W1sZmlsZQ%3D%3D?line=6'>7</a>\u001b[0m g \u001b[39m=\u001b[39m cv\u001b[39m.\u001b[39mcvtColor(img, cv\u001b[39m.\u001b[39mCOLOR_BGR2GRAY) \u001b[39m# Convert the image to grayscale\u001b[39;00m\n\u001b[1;32m----> <a href='vscode-notebook-cell:/c%3A/Users/LakshmiSrinivas/Desktop/CV/group_project/Face%20Detection.ipynb#W1sZmlsZQ%3D%3D?line=7'>8</a>\u001b[0m f \u001b[39m=\u001b[39m cascade_face\u001b[39m.\u001b[39;49mdetectMultiScale(g, \u001b[39m1.3\u001b[39;49m, \u001b[39m4\u001b[39;49m)\n\u001b[0;32m     <a href='vscode-notebook-cell:/c%3A/Users/LakshmiSrinivas/Desktop/CV/group_project/Face%20Detection.ipynb#W1sZmlsZQ%3D%3D?line=9'>10</a>\u001b[0m \u001b[39mfor\u001b[39;00m (x, y, w, h) \u001b[39min\u001b[39;00m f:\n\u001b[0;32m     <a href='vscode-notebook-cell:/c%3A/Users/LakshmiSrinivas/Desktop/CV/group_project/Face%20Detection.ipynb#W1sZmlsZQ%3D%3D?line=10'>11</a>\u001b[0m     cv\u001b[39m.\u001b[39mrectangle(img, (x, y), (x \u001b[39m+\u001b[39m w, y \u001b[39m+\u001b[39m h), (\u001b[39m0\u001b[39m,  \u001b[39m0\u001b[39m, \u001b[39m255\u001b[39m), \u001b[39m4\u001b[39m) \u001b[39m#(B, G, R)\u001b[39;00m\n",
      "\u001b[1;31merror\u001b[0m: OpenCV(4.6.0) D:\\a\\opencv-python\\opencv-python\\opencv\\modules\\objdetect\\src\\cascadedetect.cpp:1689: error: (-215:Assertion failed) !empty() in function 'cv::CascadeClassifier::detectMultiScale'\n"
     ]
    }
   ],
   "source": [
    "cascade_face=cv.CascadeClassifier('haarcascade_frontalface_default.xml')\n",
    "cap=cv.VideoCapture(0)\n",
    "\n",
    "while True:\n",
    "    ret, img = cap.read()\n",
    "    print(ret)\n",
    "    g = cv.cvtColor(img, cv.COLOR_BGR2GRAY) # Convert the image to grayscale\n",
    "    f = cascade_face.detectMultiScale(g, 1.3, 4)\n",
    "    \n",
    "    for (x, y, w, h) in f:\n",
    "        cv.rectangle(img, (x, y), (x + w, y + h), (0,  0, 255), 4) #(B, G, R)\n",
    "        \n",
    "    cv.imshow('img', img)\n",
    "    k = cv.waitKey(30) & 0xff\n",
    "    if k == 27:\n",
    "        break\n",
    "        \n",
    "cap.release()\n",
    "cv.destroyAllWindows()"
   ]
  },
  {
   "cell_type": "code",
   "execution_count": null,
   "id": "399b6a1d",
   "metadata": {},
   "outputs": [],
   "source": []
  },
  {
   "cell_type": "code",
   "execution_count": null,
   "id": "cf67eb11",
   "metadata": {},
   "outputs": [],
   "source": []
  },
  {
   "cell_type": "code",
   "execution_count": null,
   "id": "df685f0d",
   "metadata": {},
   "outputs": [],
   "source": []
  },
  {
   "cell_type": "code",
   "execution_count": null,
   "id": "bfbf28ad",
   "metadata": {},
   "outputs": [],
   "source": []
  },
  {
   "cell_type": "code",
   "execution_count": null,
   "id": "3db7dd59",
   "metadata": {},
   "outputs": [],
   "source": []
  }
 ],
 "metadata": {
  "kernelspec": {
   "display_name": "Python 3 (ipykernel)",
   "language": "python",
   "name": "python3"
  },
  "language_info": {
   "codemirror_mode": {
    "name": "ipython",
    "version": 3
   },
   "file_extension": ".py",
   "mimetype": "text/x-python",
   "name": "python",
   "nbconvert_exporter": "python",
   "pygments_lexer": "ipython3",
   "version": "3.9.10"
  }
 },
 "nbformat": 4,
 "nbformat_minor": 5
}
