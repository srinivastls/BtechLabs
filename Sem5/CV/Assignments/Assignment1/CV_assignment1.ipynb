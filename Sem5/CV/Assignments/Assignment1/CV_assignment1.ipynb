{
 "cells": [
  {
   "cell_type": "code",
   "execution_count": 1,
   "id": "72e6d1a8",
   "metadata": {},
   "outputs": [],
   "source": [
    "import cv2\n",
    "import numpy as np\n",
    "import matplotlib.pyplot as plt"
   ]
  },
  {
   "cell_type": "code",
   "execution_count": 2,
   "id": "1bf54af3",
   "metadata": {},
   "outputs": [],
   "source": [
    "def sharpen_image_with_edges(input_image, edge_image, sharpening_factor):\n",
    "    sharpened_image = input_image + sharpening_factor * edge_image\n",
    "    sharpened_image = np.clip(sharpened_image, 0, 255).astype(np.uint8)\n",
    "    return sharpened_image"
   ]
  },
  {
   "cell_type": "code",
   "execution_count": 3,
   "id": "12287575",
   "metadata": {},
   "outputs": [],
   "source": [
    "# c in the given question\n",
    "sharpening_factor = 0.8\n",
    "\n",
    "# Load the input image (capture a face image)\n",
    "input_image = cv2.imread(r'my p.jpg', cv2.IMREAD_GRAYSCALE)\n",
    "\n",
    "# Apply Gaussian blur for both edge detection methods\n",
    "blurred_image = cv2.GaussianBlur(input_image, (5, 5), 0)"
   ]
  },
  {
   "cell_type": "code",
   "execution_count": 4,
   "id": "521a0d0b",
   "metadata": {},
   "outputs": [],
   "source": [
    "# Canny Edge Detection\n",
    "canny_edges = cv2.Canny(blurred_image, 100, 200)\n",
    "\n",
    "sharpened_canny = sharpen_image_with_edges(input_image, canny_edges, sharpening_factor)\n",
    "\n",
    "# Display the results\n",
    "cv2.imshow('Original Image', input_image)\n",
    "cv2.imshow('Canny Edges', canny_edges)\n",
    "cv2.imshow('Sharpened using Canny', sharpened_canny)\n",
    "\n",
    "cv2.waitKey(0)\n",
    "cv2.destroyAllWindows()"
   ]
  },
  {
   "cell_type": "code",
   "execution_count": 5,
   "id": "6236dacc",
   "metadata": {},
   "outputs": [],
   "source": [
    "# Marr Hildreth Edge Detection\n",
    "marr_hildreth_edges = cv2.Laplacian(blurred_image, cv2.CV_64F)\n",
    "marr_hildreth_edges = cv2.convertScaleAbs(marr_hildreth_edges)\n",
    "\n",
    "\n",
    "sharpened_marr_hildreth = sharpen_image_with_edges(input_image, marr_hildreth_edges, sharpening_factor)\n",
    "\n",
    "cv2.imshow('Original Image', input_image)\n",
    "cv2.imshow('Marr Hildreth Edges', marr_hildreth_edges)\n",
    "cv2.imshow('Sharpened using Marr Hildreth', sharpened_marr_hildreth)\n",
    "\n",
    "cv2.waitKey(0)\n",
    "cv2.destroyAllWindows()"
   ]
  },
  {
   "cell_type": "code",
   "execution_count": null,
   "id": "b3aabe90",
   "metadata": {},
   "outputs": [],
   "source": []
  }
 ],
 "metadata": {
  "kernelspec": {
   "display_name": "Python 3 (ipykernel)",
   "language": "python",
   "name": "python3"
  },
  "language_info": {
   "codemirror_mode": {
    "name": "ipython",
    "version": 3
   },
   "file_extension": ".py",
   "mimetype": "text/x-python",
   "name": "python",
   "nbconvert_exporter": "python",
   "pygments_lexer": "ipython3",
   "version": "3.9.12"
  }
 },
 "nbformat": 4,
 "nbformat_minor": 5
}
